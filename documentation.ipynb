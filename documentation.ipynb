{
 "cells": [
  {
   "cell_type": "markdown",
   "metadata": {},
   "source": [
    "In this documentation, we will provide a guide on how to operate the webpage and what data is being displayed."
   ]
  },
  {
   "cell_type": "markdown",
   "metadata": {},
   "source": [
    "We have divided the webpage into five subsections: <br />\n",
    "> Introduction <br />\n",
    "> Dwell Time <br />\n",
    "> Desired Lines <br />\n",
    "> Required Maintenance <br />\n",
    "> Privacy Philosophy <br />\n",
    "\n",
    "On the left side of the webpage, there is a navigation bar, and user can click on the section they want to view and the user will be navigated to the corresponding section."
   ]
  },
  {
   "cell_type": "markdown",
   "metadata": {},
   "source": [
    "## Introduction"
   ]
  },
  {
   "cell_type": "markdown",
   "metadata": {},
   "source": [
    "Introduction of the data and the interactive webpage."
   ]
  },
  {
   "cell_type": "markdown",
   "metadata": {},
   "source": [
    "## Dwell Time"
   ]
  },
  {
   "cell_type": "markdown",
   "metadata": {},
   "source": [
    "There are three subsections in this part:\n",
    "> Where do people tend to linger? <br />\n",
    "> When do people tend to linger? <br />\n",
    "> How does dwell time change over time? <br />\n",
    "\n",
    "Also, user can use the navigation bar on the left to navigate to the corresponding subsection. In addition, user can use the subtitles under Dwell Time to navigate."
   ]
  },
  {
   "cell_type": "markdown",
   "metadata": {},
   "source": [
    "### Where do people tend to linger?"
   ]
  },
  {
   "cell_type": "markdown",
   "metadata": {},
   "source": [
    "There are two interactions under this subsection. <br />\n",
    "#### Heapmap of Dwell Time\n",
    "The first one is the heatmap of dwell time for a specific event and a specific sensor. To see where people tend to linger, the most direct way is to display the heatmap of dwell time. In this interaction, user can choose one sensor among the three sensors and can also choose one time, and it will display the heatmap of dwell time for that sensor during the chosen time. The region with darker color indicates that people dwell for a longer time in this region. We have stored the median dwell time and then used the heatmap to display the dwell time."
   ]
  },
  {
   "cell_type": "markdown",
   "metadata": {},
   "source": [
    "#### Long Dwell Time Filter\n",
    "The second one is the long dwell time filter. Since it is hard to make a definition of \"long\" dwell time, users can define their own \"long\" dwell time by using the slider to pick a threshold and choose a sensor among three sensors, and it will display all regions in this location with dwell time larger than the threshold. And the regions that pass the threshold are highlighted in the plot, while those regions that do not pass the threshold are shown in dark grey. We have used the median dwell time for all available dates for different regions(2019-02-20 to 2020-01-12 for Streetscape - Sandbox and 2019-03-20 to 2020-01-12 for Outside - Sandbox and Under Raincoat - Sandbox) in this section."
   ]
  },
  {
   "cell_type": "markdown",
   "metadata": {},
   "source": [
    "### When do people tend to linger?"
   ]
  },
  {
   "cell_type": "markdown",
   "metadata": {},
   "source": [
    "There is one interaction under this subsection."
   ]
  },
  {
   "cell_type": "markdown",
   "metadata": {},
   "source": [
    "#### Calendar Heatmap of Dwell Time\n",
    "User can choose a sensor among Outside - Sandbox, Streetscape - Sandbox and Under Raincoat - Sandbox. And it will display the calendar heatmap of dwell time for that location. The darker color indicates that people dwell longer on that day, and the grey color indicates that the data for that sensor on that day is not available. We have used the median dwell time for that sensor of each day for all available dates(2019-02-20 to 2020-01-12 for Streetscape - Sandbox and 2019-03-20 to 2020-01-12 for Outside - Sandbox and Under Raincoat - Sandbox)."
   ]
  },
  {
   "cell_type": "markdown",
   "metadata": {},
   "source": [
    "### How does dwell time change over time? "
   ]
  },
  {
   "cell_type": "markdown",
   "metadata": {},
   "source": [
    "Since there are many zones with different functionalities in Streetscape-Sandbox, while for Outside-Sandbox and Under Raincoat Sandbox, most zones are only with chairs, or are just paths, so we only focus on Streetscape-Sandbox here.\n",
    "First, we have divided streetscape into several behavior zones. To help user better know what each behavior zone looks like, we have displayed how behavior zone is divided in this region, and this further helps users operate the line chart below."
   ]
  },
  {
   "cell_type": "markdown",
   "metadata": {},
   "source": [
    "#### Trend Chart of Dwell Time in Streetscape-Sandbox\n",
    "First, user should select two behavior zones. If user wants to see the how dwell time changes in one specific behavior zone, 1st Zone and 2nd Zone he/she chooses must be the same. For example, if user wants to see how dwell time changes in behavior zone 'Table1', then both 1st Zone and 2nd Zone should be chosen as 'Table1' here. The data we used here is the median dwell time of each day for this behavior zone.<br />\n",
    "If user wants to make a comparison between two behavior zones, he/she should choose two different behavior zones, and after clicking 'Apply', it will display the trend chart of the difference dwell time between the two regions. For example, if 1st Zone is 'Seat' and the 2nd Zone is 'Stair', then we calculated median dwell time for behavior zone Seat minus median dwell time for behavior zone Stair of each day. So if the value is greater than 0, it indicates that the for that day, the median dwell time for 1st Zone is larger than that for the 2nd Zone. In contrast, if the value is less than 0, it indicates that the for that day, the median dwell time for 1st Zone is smaller than that for the 2nd Zone. <br />\n",
    "If user wants to see the specific date or median dwell time, user can hover over that point, and it will display the date and median dwell time for that point. In addition, if user wants to magnify the line chart, there is a zoom in button on the top right corner. Also, if user wants to zoom in one specific region, he/she can creates a square, and the region within the squared will be maginified, and once the user double clicks, it will return to the original plot."
   ]
  },
  {
   "cell_type": "markdown",
   "metadata": {},
   "source": [
    "## Desired Lines"
   ]
  },
  {
   "cell_type": "markdown",
   "metadata": {},
   "source": [
    "For desire line, the user will get to play with four interactive plots.\n",
    "\n",
    "The first one is for users to view the different behavior zones of each sensor. This provides the background information for the users, so that they will be able to understand what the zones are in the following heatmaps.\n",
    "\n",
    "The second one is the heatmap of the streetscape sensor. The user gets to select the event and multiple bahavior zones . The mechanism is that once the user selects a zone, he or she will be able to see all the paths of the pedestrians that are from or to this behavior zone. If the user select multiple zones, he or she will be able to see all the paths that are either originated or to these zones. The paths are colored by their popularity, meaning that the most popular path will have the darkest color, orange. By selecting different zone, the user only needs to find the connecting lines across the zones, which ideally will be the desire line when an object travels from one of the selected zones to another. If there doesn't exist a connecting line, the user can see the overall pattern and will be able to see the trends by themselves.\n",
    "\n",
    "We only focus on the event days since the objects' moving behavior will depend on the setup of the sidewalk lab for different events. By comparing the differences, for example, the event coordinator will be able to find out the impacts of the setup on viewers' moving behavior. And hopefully it can provide them some ideas about how to set up the lab for different types of events.\n",
    "\n",
    "The third and the forth interactive plots are the same as the second one, except for that they are for the outside sensor and the under raincoat sensor."
   ]
  },
  {
   "cell_type": "markdown",
   "metadata": {},
   "source": [
    "## Required Maintenance \n",
    "\n",
    "307 requires maintenance after 500 visitors or 500 hours of use. In this section, users can get a schedule for maintenance.\n",
    "\n",
    "There are five interactions under this section.\n",
    "\n",
    "#### Dates\n",
    "\n",
    "Users can choose a range of dates, during which the sensor need maintenance. Users can choose between 2019-02-20 to 2020-01-12.\n",
    "\n",
    "#### Sensor\n",
    "\n",
    "Since there are 3 sensors and each sensor might be used in different frequency, they might not need maintenance at the same time. Thus, we schedule the maintenance for each sensor resepctively. The user could choose either `Under raincoat`, `Streetscape` or `Outside`.\n",
    "\n",
    "#### Time Range\n",
    "\n",
    "We understand that the technical workers for maintenance might not be avaliable anytime. In order for the schedule to fit the schedule of workers, the users could set the time range avaliable to schedule maintenance. We assume each maintenance process would take 1 hour. The maintenance would only be shcedule within this time range.\n",
    "\n",
    "#### Limit\n",
    "\n",
    "We noticed that, sometimes, there might be a lot of visitors on sites during the peroid of time supposed to have maintenance. However, the maintenance might cause inconvenience for visitors and it is also difficult to have maintenance when there are lots of people. Therefore, we would like to avoid such situation. In this section, user could choose the maximum number of visitors onsites when having maintenance. The user could choose between 0 (no visitors at all) and the upper bound of all non-outliers (Q3 + 1.5\\*IQR). The maintenance would only be scheduled when there are less than the limit number of visitors.\n",
    "\n",
    "#### Weekdays only\n",
    "\n",
    "Similar to the consideration for the time range. The workers might not be avaliable on weekends. Therefore, when scheduling, the user could avoid maintenance on weekends by checking the weekdays_only option.\n",
    "\n",
    "After setting all of the five interactions, the user could finally get a schedule under the requirement."
   ]
  },
  {
   "cell_type": "markdown",
   "metadata": {},
   "source": [
    "## Privacy Philosophy"
   ]
  },
  {
   "cell_type": "markdown",
   "metadata": {},
   "source": [
    "Privacy philosophy of this webpage and Numina."
   ]
  }
 ],
 "metadata": {
  "kernelspec": {
   "display_name": "Python 3",
   "language": "python",
   "name": "python3"
  },
  "language_info": {
   "codemirror_mode": {
    "name": "ipython",
    "version": 3
   },
   "file_extension": ".py",
   "mimetype": "text/x-python",
   "name": "python",
   "nbconvert_exporter": "python",
   "pygments_lexer": "ipython3",
   "version": "3.8.1"
  }
 },
 "nbformat": 4,
 "nbformat_minor": 4
}
