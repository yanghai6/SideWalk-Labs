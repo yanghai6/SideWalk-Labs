{
 "cells": [
  {
   "cell_type": "code",
   "execution_count": 1,
   "metadata": {
    "extensions": {
     "jupyter_dashboards": {
      "version": 1,
      "views": {
       "grid_default": {},
       "report_default": {
        "hidden": true
       }
      }
     }
    }
   },
   "outputs": [
    {
     "data": {
      "application/javascript": [
       "$('<div id=\"toc\"></div>').css({position: 'fixed', top: '150px', left: 0}).appendTo(document.body);\n",
       "$.getScript('https://kmahelona.github.io/ipython_notebook_goodies/ipython_notebook_toc.js');\n"
      ],
      "text/plain": [
       "<IPython.core.display.Javascript object>"
      ]
     },
     "metadata": {},
     "output_type": "display_data"
    }
   ],
   "source": [
    "%%javascript\n",
    "$('<div id=\"toc\"></div>').css({position: 'fixed', top: '150px', left: 0}).appendTo(document.body);\n",
    "$.getScript('https://kmahelona.github.io/ipython_notebook_goodies/ipython_notebook_toc.js');"
   ]
  },
  {
   "cell_type": "code",
   "execution_count": 2,
   "metadata": {
    "extensions": {
     "jupyter_dashboards": {
      "version": 1,
      "views": {
       "grid_default": {},
       "report_default": {
        "hidden": true
       }
      }
     }
    },
    "slideshow": {
     "slide_type": "skip"
    }
   },
   "outputs": [],
   "source": [
    "import pandas as pd\n",
    "import warnings\n",
    "warnings.filterwarnings('ignore')"
   ]
  },
  {
   "cell_type": "markdown",
   "metadata": {
    "extensions": {
     "jupyter_dashboards": {
      "version": 1,
      "views": {
       "grid_default": {},
       "report_default": {
        "hidden": false
       }
      }
     }
    }
   },
   "source": [
    "# Introduction<a class=\"anchor\" id=\"introduction\"></a>"
   ]
  },
  {
   "cell_type": "markdown",
   "metadata": {
    "extensions": {
     "jupyter_dashboards": {
      "version": 1,
      "views": {
       "grid_default": {},
       "report_default": {
        "hidden": false
       }
      }
     }
    }
   },
   "source": [
    "The data we have used is from Numina which uses computer vision and on-camera processing to generate data on the location of pedestrians, cyclists, and vehicles. From this interactive page, users can display data to explore dwell time, desired path and maintenance for 307 Lakeshore Blv.."
   ]
  },
  {
   "cell_type": "markdown",
   "metadata": {
    "extensions": {
     "jupyter_dashboards": {
      "version": 1,
      "views": {
       "grid_default": {},
       "report_default": {
        "hidden": false
       }
      }
     }
    },
    "slideshow": {
     "slide_type": "slide"
    }
   },
   "source": [
    "# Dwell Time<a class=\"anchor\" id=\"dwell-time\"></a>"
   ]
  },
  {
   "cell_type": "markdown",
   "metadata": {
    "extensions": {
     "jupyter_dashboards": {
      "version": 1,
      "views": {
       "grid_default": {},
       "report_default": {
        "hidden": false
       }
      }
     }
    }
   },
   "source": [
    "* [Where do people tend to linger?](#where-bullet)\n",
    "* [When do people tend to linger?](#when-bullet)\n",
    "* [How does dwell time change over time?](#how-bullet)"
   ]
  },
  {
   "cell_type": "markdown",
   "metadata": {
    "extensions": {
     "jupyter_dashboards": {
      "version": 1,
      "views": {
       "grid_default": {},
       "report_default": {
        "hidden": false
       }
      }
     }
    }
   },
   "source": [
    "## Where do people tend to linger? <a class=\"anchor\" id=\"where-bullet\"></a>"
   ]
  },
  {
   "cell_type": "code",
   "execution_count": 3,
   "metadata": {
    "extensions": {
     "jupyter_dashboards": {
      "version": 1,
      "views": {
       "grid_default": {},
       "report_default": {
        "hidden": true
       }
      }
     }
    },
    "slideshow": {
     "slide_type": "skip"
    }
   },
   "outputs": [],
   "source": [
    "from __future__ import print_function\n",
    "from ipywidgets import interact, interactive, fixed, interact_manual\n",
    "import ipywidgets as widgets"
   ]
  },
  {
   "cell_type": "code",
   "execution_count": 4,
   "metadata": {
    "extensions": {
     "jupyter_dashboards": {
      "version": 1,
      "views": {
       "grid_default": {},
       "report_default": {
        "hidden": false
       }
      }
     }
    },
    "scrolled": true,
    "slideshow": {
     "slide_type": "skip"
    }
   },
   "outputs": [
    {
     "name": "stdout",
     "output_type": "stream",
     "text": [
      "Populating the interactive namespace from numpy and matplotlib\n"
     ]
    }
   ],
   "source": [
    "%pylab inline\n",
    "import matplotlib.pyplot as plt\n",
    "import matplotlib.image as mpimg"
   ]
  },
  {
   "cell_type": "code",
   "execution_count": 5,
   "metadata": {
    "extensions": {
     "jupyter_dashboards": {
      "version": 1,
      "views": {
       "grid_default": {},
       "report_default": {
        "hidden": true
       }
      }
     }
    },
    "slideshow": {
     "slide_type": "skip"
    }
   },
   "outputs": [],
   "source": [
    "def f(Sensor, Time):\n",
    "    \"\"\"\n",
    "    Display the heatmap according to the sensor and time selected by the user.\n",
    "    \"\"\"\n",
    "    # Sensor is Outside-Sandbox\n",
    "    if Sensor == 1 and Time == 1:\n",
    "        img=mpimg.imread('outside_alltime.JPG')\n",
    "    if Sensor == 1 and Time == 2:\n",
    "        img=mpimg.imread('0629.jpg')\n",
    "    if Sensor == 1 and Time == 3:\n",
    "        img=mpimg.imread('0815.jpg')\n",
    "    if Sensor == 1 and Time == 4:\n",
    "        img=mpimg.imread('0926.jpg')\n",
    "    if Sensor == 1 and Time == 5:\n",
    "        img=mpimg.imread('1120.jpg')\n",
    "    # Sensor is Streetscape-Sandbox\n",
    "    if Sensor == 2 and Time == 1:\n",
    "        img=mpimg.imread('streetscape.JPG')\n",
    "    if Sensor == 2 and Time == 2:\n",
    "        img=mpimg.imread('streetscape0629.JPG')\n",
    "    if Sensor == 2 and Time == 3:\n",
    "        img=mpimg.imread('streetscape0815.JPG')\n",
    "    if Sensor == 2 and Time == 4:\n",
    "        img=mpimg.imread('streetscape0926.JPG')\n",
    "    if Sensor == 2 and Time == 5:\n",
    "        img=mpimg.imread('streetscape1120.JPG')\n",
    "    # Sensor is Under Raincoat-Sandbox\n",
    "    if Sensor == 3 and Time == 1:\n",
    "        img=mpimg.imread('Raincoat.jpg')\n",
    "    if Sensor == 3 and Time == 2:\n",
    "        img=mpimg.imread('Raincoat0629.jpg')\n",
    "    if Sensor == 3 and Time == 3:\n",
    "        img=mpimg.imread('Raincoat0815.jpg')\n",
    "    if Sensor == 3 and Time == 4:\n",
    "        img=mpimg.imread('Raincoat0926.jpg')\n",
    "    if Sensor == 3 and Time == 5:\n",
    "        img=mpimg.imread('Raincoat1120.jpg')\n",
    "    plt.figure(figsize = (15,8))\n",
    "    imgplot = plt.imshow(img)\n",
    "    plt.show()"
   ]
  },
  {
   "cell_type": "code",
   "execution_count": 6,
   "metadata": {
    "extensions": {
     "jupyter_dashboards": {
      "version": 1,
      "views": {
       "grid_default": {},
       "report_default": {
        "hidden": false
       }
      }
     }
    },
    "scrolled": false,
    "slideshow": {
     "slide_type": "slide"
    }
   },
   "outputs": [
    {
     "data": {
      "application/vnd.jupyter.widget-view+json": {
       "model_id": "fa08c91e87a74fb0b3aebc97bc51953a",
       "version_major": 2,
       "version_minor": 0
      },
      "text/plain": [
       "interactive(children=(Dropdown(description='Sensor', options=(('Outside-Sandbox', 1), ('Streetscape-Sandbox', …"
      ]
     },
     "metadata": {},
     "output_type": "display_data"
    }
   ],
   "source": [
    "interact(f, Sensor=[('Outside-Sandbox', 1), ('Streetscape-Sandbox', 2), \n",
    "                  ('Under Raincoat-Sandbox', 3)],\n",
    "         Time=[('All Time', 1), ('Sidewalk Summer Open House', 2), \n",
    "                  ('City Moments: An event celebrating art and urban life', 3),\n",
    "                 ('Sidewalk Labs opens its door for Startup Open House ', 4), ('Tap: Ex Augmented Opera ', 5)]);"
   ]
  },
  {
   "cell_type": "code",
   "execution_count": 7,
   "metadata": {
    "extensions": {
     "jupyter_dashboards": {
      "version": 1,
      "views": {
       "grid_default": {},
       "report_default": {
        "hidden": true
       }
      }
     }
    },
    "slideshow": {
     "slide_type": "skip"
    }
   },
   "outputs": [],
   "source": [
    "def h(Sensor, DwellTime):\n",
    "    \"\"\"\n",
    "    Display the region with dwell time larger than the threshold.\n",
    "    \"\"\"\n",
    "    # Sensor is Streetscape-Sandbox\n",
    "    if Sensor == 2:\n",
    "        if DwellTime == 1:\n",
    "            img=mpimg.imread('Dwell Time Selector/Streetscape/All Time/1.png')\n",
    "        if DwellTime == 2:\n",
    "            img=mpimg.imread('Dwell Time Selector/Streetscape/All Time/2.png')\n",
    "        if DwellTime == 3:\n",
    "            img=mpimg.imread('Dwell Time Selector/Streetscape/All Time/3.png')\n",
    "        if DwellTime == 4:\n",
    "            img=mpimg.imread('Dwell Time Selector/Streetscape/All Time/4.png')\n",
    "        if DwellTime == 5:\n",
    "            img=mpimg.imread('Dwell Time Selector/Streetscape/All Time/5.png')\n",
    "        if DwellTime == 6:\n",
    "            img=mpimg.imread('Dwell Time Selector/Streetscape/All Time/6.png')\n",
    "        if DwellTime >= 7 and DwellTime < 13:\n",
    "            img=mpimg.imread('Dwell Time Selector/Streetscape/All Time/7.png')\n",
    "        if DwellTime >= 13 and DwellTime < 22:\n",
    "            img=mpimg.imread('Dwell Time Selector/Streetscape/All Time/13.png')\n",
    "        if DwellTime == 22:\n",
    "            img=mpimg.imread('Dwell Time Selector/Streetscape/All Time/22.png')\n",
    "        if DwellTime == 23:\n",
    "            img=mpimg.imread('Dwell Time Selector/Streetscape/All Time/23.png')\n",
    "        if DwellTime >= 24:\n",
    "            img=mpimg.imread('Dwell Time Selector/Streetscape/All Time/24.png')\n",
    "    # Sensor is Outside-Sandbox\n",
    "    elif Sensor == 1:\n",
    "        if DwellTime == 1:\n",
    "            img=mpimg.imread('Dwell Time Selector/Outside/1.png')\n",
    "        if DwellTime == 2:\n",
    "            img=mpimg.imread('Dwell Time Selector/Outside/2.png')\n",
    "        if DwellTime == 3:\n",
    "            img=mpimg.imread('Dwell Time Selector/Outside/3.png')\n",
    "        if DwellTime == 4:\n",
    "            img=mpimg.imread('Dwell Time Selector/Outside/4.png')\n",
    "        if DwellTime >= 5 and DwellTime < 10:\n",
    "            img=mpimg.imread('Dwell Time Selector/Outside/5.png')\n",
    "        if DwellTime >= 10:\n",
    "            img=mpimg.imread('Dwell Time Selector/Outside/10.JPEG') \n",
    "    # Sensor is Under Raincoat-Sandbox\n",
    "    elif Sensor == 3:\n",
    "        if DwellTime == 1:\n",
    "            img=mpimg.imread('Dwell Time Selector/Raincoat/1.png')\n",
    "        if DwellTime == 2:\n",
    "            img=mpimg.imread('Dwell Time Selector/Raincoat/2.png')\n",
    "        if DwellTime == 3:\n",
    "            img=mpimg.imread('Dwell Time Selector/Raincoat/3.png')\n",
    "        if DwellTime == 4:\n",
    "            img=mpimg.imread('Dwell Time Selector/Raincoat/4.png')\n",
    "        if DwellTime == 5:\n",
    "            img=mpimg.imread('Dwell Time Selector/Raincoat/5.png')\n",
    "        if DwellTime == 6:\n",
    "            img=mpimg.imread('Dwell Time Selector/Raincoat/6.png')\n",
    "        if DwellTime >= 7:\n",
    "            img=mpimg.imread('Dwell Time Selector/Raincoat/7.JPEG')\n",
    "        \n",
    "    plt.figure(figsize = (15,8))\n",
    "    imgplot = plt.imshow(img)\n",
    "    plt.show()"
   ]
  },
  {
   "cell_type": "code",
   "execution_count": 8,
   "metadata": {
    "extensions": {
     "jupyter_dashboards": {
      "version": 1,
      "views": {
       "grid_default": {},
       "report_default": {
        "hidden": false
       }
      }
     }
    },
    "scrolled": false,
    "slideshow": {
     "slide_type": "slide"
    }
   },
   "outputs": [
    {
     "data": {
      "application/vnd.jupyter.widget-view+json": {
       "model_id": "b982dbd483e545e9b24d95341df60d34",
       "version_major": 2,
       "version_minor": 0
      },
      "text/plain": [
       "interactive(children=(Dropdown(description='Sensor', options=(('Outside-Sandbox', 1), ('Streetscape-Sandbox', …"
      ]
     },
     "metadata": {},
     "output_type": "display_data"
    }
   ],
   "source": [
    "interact(h, Sensor=[('Outside-Sandbox', 1), ('Streetscape-Sandbox', 2), \n",
    "                  ('Under Raincoat-Sandbox', 3)], DwellTime=(1,25,1));"
   ]
  },
  {
   "cell_type": "markdown",
   "metadata": {
    "extensions": {
     "jupyter_dashboards": {
      "version": 1,
      "views": {
       "grid_default": {},
       "report_default": {
        "hidden": false
       }
      }
     }
    }
   },
   "source": [
    "## When do people tend to linger? <a class=\"anchor\" id=\"when-bullet\"></a>"
   ]
  },
  {
   "cell_type": "code",
   "execution_count": 9,
   "metadata": {
    "extensions": {
     "jupyter_dashboards": {
      "version": 1,
      "views": {
       "grid_default": {},
       "report_default": {
        "hidden": true
       }
      }
     }
    }
   },
   "outputs": [],
   "source": [
    "def calmap(Sensor):\n",
    "    \"\"\"\n",
    "    Display the calendar heatmap according to the sensor selected by the user.\n",
    "    \"\"\"\n",
    "    import numpy as np\n",
    "    import calmap # pip install calmap\n",
    "    from mpl_toolkits.axes_grid1 import make_axes_locatable\n",
    "    from mpldatacursor import datacursor\n",
    "    %matplotlib inline\n",
    "    if Sensor == 1:\n",
    "        data = pd.read_csv(\"outsideDwellTime.csv\")\n",
    "        location = 'Outside'\n",
    "    if Sensor == 2:\n",
    "        data = pd.read_csv(\"streetscapeDwellTime.csv\")\n",
    "        location = 'Streetscape'\n",
    "    if Sensor == 3:\n",
    "        data = pd.read_csv(\"raincoatDwellTime.csv\")\n",
    "        location = 'Under Raincoat'\n",
    "    data = data.set_index('time')\n",
    "    data.index = pd.to_datetime(data.index)\n",
    "    fig,ax=calmap.calendarplot(data['pct50'], fillcolor='grey', linewidth=0,cmap='Reds',\n",
    "                        fig_kws=dict(figsize=(17,8)))\n",
    "    # Add colorbar.\n",
    "    fig.colorbar(ax[0].get_children()[1], ax=ax.ravel().tolist())\n",
    "    fig.suptitle('Calendar Heatmap for '+location ,fontsize=30,y=1.08)\n",
    "    plt.show()"
   ]
  },
  {
   "cell_type": "code",
   "execution_count": 10,
   "metadata": {
    "extensions": {
     "jupyter_dashboards": {
      "version": 1,
      "views": {
       "grid_default": {},
       "report_default": {
        "hidden": false
       }
      }
     }
    },
    "scrolled": false
   },
   "outputs": [
    {
     "data": {
      "application/vnd.jupyter.widget-view+json": {
       "model_id": "37ff61436c464fd18858a975445e07c6",
       "version_major": 2,
       "version_minor": 0
      },
      "text/plain": [
       "interactive(children=(Dropdown(description='Sensor', options=(('Outside-Sandbox', 1), ('Streetscape-Sandbox', …"
      ]
     },
     "metadata": {},
     "output_type": "display_data"
    }
   ],
   "source": [
    "interact(calmap, Sensor=[('Outside-Sandbox', 1), ('Streetscape-Sandbox', 2), \n",
    "                  ('Under Raincoat-Sandbox', 3)]);"
   ]
  },
  {
   "cell_type": "markdown",
   "metadata": {
    "extensions": {
     "jupyter_dashboards": {
      "version": 1,
      "views": {
       "grid_default": {},
       "report_default": {
        "hidden": false
       }
      }
     }
    }
   },
   "source": [
    "## How does dwell time change over time?  <a class=\"anchor\" id=\"how-bullet\"></a>"
   ]
  },
  {
   "cell_type": "code",
   "execution_count": 89,
   "metadata": {
    "extensions": {
     "jupyter_dashboards": {
      "version": 1,
      "views": {
       "grid_default": {},
       "report_default": {
        "hidden": true
       }
      }
     }
    },
    "slideshow": {
     "slide_type": "skip"
    }
   },
   "outputs": [
    {
     "data": {
      "image/png": "[encoded data removed]",
      "text/plain": [
       "<Figure size 1080x576 with 1 Axes>"
      ]
     },
     "metadata": {
      "needs_background": "light"
     },
     "output_type": "display_data"
    }
   ],
   "source": [
    "img=mpimg.imread('StreetscapeBehaviorZone.JPG')\n",
    "plt.figure(figsize = (15,8))\n",
    "imgplot = plt.imshow(img)\n",
    "plt.show()"
   ]
  },
  {
   "cell_type": "code",
   "execution_count": 13,
   "metadata": {
    "extensions": {
     "jupyter_dashboards": {
      "version": 1,
      "views": {
       "grid_default": {},
       "report_default": {
        "hidden": true
       }
      }
     }
    },
    "slideshow": {
     "slide_type": "skip"
    }
   },
   "outputs": [],
   "source": [
    "def bar(x):\n",
    "    pass\n",
    "\n",
    "# Function for the button to select user input and do work\n",
    "def get_user_selection(a):\n",
    "    import plotly.express as px\n",
    "    # Clear the previous plot when a new plot is displayed.\n",
    "    with out:\n",
    "        clear_output(True)\n",
    "        # 1st zone is seat\n",
    "        if (dropbox1.value == 1) and (dropbox2.value == 1):\n",
    "            data = pd.read_csv(\"seatStreetscape.csv\")\n",
    "            location = 'seat'\n",
    "        elif (dropbox1.value == 1) and (dropbox2.value == 2):\n",
    "            data = pd.read_csv(\"seatStreetscape.csv\")\n",
    "            data2 = pd.read_csv(\"officeStreetscape.csv\")\n",
    "            data['pct50'] = data['pct50'] - data2['pct50']\n",
    "            location = 'seat - office'\n",
    "        elif (dropbox1.value == 1) and (dropbox2.value == 3):\n",
    "            data = pd.read_csv(\"seatStreetscape.csv\")\n",
    "            data2 = pd.read_csv(\"stairStreetscape.csv\")\n",
    "            data['pct50'] = data['pct50'] - data2['pct50']\n",
    "            location = 'seat - stair'\n",
    "        elif (dropbox1.value == 1) and (dropbox2.value == 4):\n",
    "            data = pd.read_csv(\"seatStreetscape.csv\")\n",
    "            data2 = pd.read_csv(\"table1Streetscape.csv\")\n",
    "            data['pct50'] = data['pct50'] - data2['pct50']\n",
    "            location = 'seat - table1'\n",
    "        elif (dropbox1.value == 1) and (dropbox2.value == 5):\n",
    "            data = pd.read_csv(\"seatStreetscape.csv\")\n",
    "            data2 = pd.read_csv(\"table2Streetscape.csv\")\n",
    "            data['pct50'] = data['pct50'] - data2['pct50']\n",
    "            location = 'seat - table2'\n",
    "        # 1st zone is office\n",
    "        elif (dropbox1.value == 2) and (dropbox2.value == 1):\n",
    "            data = pd.read_csv(\"officeStreetscape.csv\")\n",
    "            data2 = pd.read_csv(\"seatStreetscape.csv\")\n",
    "            data['pct50'] = data['pct50'] - data2['pct50']\n",
    "            location = 'office - seat'\n",
    "        elif (dropbox1.value == 2) and (dropbox2.value == 2):\n",
    "            data = pd.read_csv(\"officeStreetscape.csv\")\n",
    "            location = 'office'\n",
    "        elif (dropbox1.value == 2) and (dropbox2.value == 3):\n",
    "            data = pd.read_csv(\"officeStreetscape.csv\")\n",
    "            data2 = pd.read_csv(\"stairStreetscape.csv\")\n",
    "            data['pct50'] = data['pct50'] - data2['pct50']\n",
    "            location = 'office - stair'\n",
    "        elif (dropbox1.value == 2) and (dropbox2.value == 4):\n",
    "            data = pd.read_csv(\"officeStreetscape.csv\")\n",
    "            data2 = pd.read_csv(\"table1Streetscape.csv\")\n",
    "            data['pct50'] = data['pct50'] - data2['pct50']\n",
    "            location = 'office - table1'\n",
    "        elif (dropbox1.value == 2) and (dropbox2.value == 5):\n",
    "            data = pd.read_csv(\"officeStreetscape.csv\")\n",
    "            data2 = pd.read_csv(\"table2Streetscape.csv\")\n",
    "            data['pct50'] = data['pct50'] - data2['pct50']\n",
    "            location = 'office - table2'\n",
    "        # 1st zone is stair\n",
    "        elif (dropbox1.value == 3) and (dropbox2.value == 1):\n",
    "            data = pd.read_csv(\"stairStreetscape.csv\")\n",
    "            data2 = pd.read_csv(\"seatStreetscape.csv\")\n",
    "            data['pct50'] = data['pct50'] - data2['pct50']\n",
    "            location = 'stair - seat'\n",
    "        elif (dropbox1.value == 3) and (dropbox2.value == 2):\n",
    "            data = pd.read_csv(\"stairStreetscape.csv\")\n",
    "            data2 = pd.read_csv(\"officeStreetscape.csv\")\n",
    "            data['pct50'] = data['pct50'] - data2['pct50']\n",
    "            location = 'stair - office'\n",
    "        elif (dropbox1.value == 3) and (dropbox2.value == 3):\n",
    "            data = pd.read_csv(\"stairStreetscape.csv\")\n",
    "            location = 'stair'\n",
    "        elif (dropbox1.value == 3) and (dropbox2.value == 4):\n",
    "            data = pd.read_csv(\"stairStreetscape.csv\")\n",
    "            data2 = pd.read_csv(\"table1Streetscape.csv\")\n",
    "            data['pct50'] = data['pct50'] - data2['pct50']\n",
    "            location = 'stair - table1'\n",
    "        elif (dropbox1.value == 3) and (dropbox2.value == 5):\n",
    "            data = pd.read_csv(\"stairStreetscape.csv\")\n",
    "            data2 = pd.read_csv(\"table2Streetscape.csv\")\n",
    "            data['pct50'] = data['pct50'] - data2['pct50']\n",
    "            location = 'stair - table2'\n",
    "        # 1st zone is table1\n",
    "        elif (dropbox1.value == 4) and (dropbox2.value == 1):\n",
    "            data = pd.read_csv(\"table1Streetscape.csv\")\n",
    "            data2 = pd.read_csv(\"seatStreetscape.csv\")\n",
    "            data['pct50'] = data['pct50'] - data2['pct50']\n",
    "            location = 'table1 - seat'\n",
    "        elif (dropbox1.value == 4) and (dropbox2.value == 2):\n",
    "            data = pd.read_csv(\"table1Streetscape.csv\")\n",
    "            data2 = pd.read_csv(\"officeStreetscape.csv\")\n",
    "            data['pct50'] = data['pct50'] - data2['pct50']\n",
    "            location = 'table1 - office'\n",
    "        elif (dropbox1.value == 4) and (dropbox2.value == 3):\n",
    "            data = pd.read_csv(\"table1Streetscape.csv\")\n",
    "            data2 = pd.read_csv(\"stairStreetscape.csv\")\n",
    "            data['pct50'] = data['pct50'] - data2['pct50']\n",
    "            location = 'table1 - stair'\n",
    "        elif (dropbox1.value == 4) and (dropbox2.value == 4):\n",
    "            data = pd.read_csv(\"table1Streetscape.csv\")\n",
    "            location = 'table1'\n",
    "        elif (dropbox1.value == 4) and (dropbox2.value == 5):\n",
    "            data = pd.read_csv(\"table1Streetscape.csv\")\n",
    "            data2 = pd.read_csv(\"table2Streetscape.csv\")\n",
    "            data['pct50'] = data['pct50'] - data2['pct50']\n",
    "            location = 'table1 - table2'\n",
    "        # 1st zone is table2\n",
    "        elif (dropbox1.value == 5) and (dropbox2.value == 1):\n",
    "            data = pd.read_csv(\"table2Streetscape.csv\")\n",
    "            data2 = pd.read_csv(\"seatStreetscape.csv\")\n",
    "            data['pct50'] = data['pct50'] - data2['pct50']\n",
    "            location = 'table2 - seat'\n",
    "        elif (dropbox1.value == 5) and (dropbox2.value == 2):\n",
    "            data = pd.read_csv(\"table2Streetscape.csv\")\n",
    "            data2 = pd.read_csv(\"officeStreetscape.csv\")\n",
    "            data['pct50'] = data['pct50'] - data2['pct50']\n",
    "            location = 'table2 - office'\n",
    "        elif (dropbox1.value == 5) and (dropbox2.value == 3):\n",
    "            data = pd.read_csv(\"table2Streetscape.csv\")\n",
    "            data2 = pd.read_csv(\"stairStreetscape.csv\")\n",
    "            data['pct50'] = data['pct50'] - data2['pct50']\n",
    "            location = 'table2 - stair'\n",
    "        elif (dropbox1.value == 5) and (dropbox2.value == 4):\n",
    "            data = pd.read_csv(\"table2Streetscape.csv\")\n",
    "            data2 = pd.read_csv(\"table1Streetscape.csv\")\n",
    "            data['pct50'] = data['pct50'] - data2['pct50']\n",
    "            location = 'table2 - table1'\n",
    "        elif (dropbox1.value == 5) and (dropbox2.value == 5):\n",
    "            data = pd.read_csv(\"table2Streetscape.csv\")\n",
    "            location = 'table2'\n",
    "        fig = px.line(data, x=\"time\", y=\"pct50\", title='Trend Chart of Dwell Time in '+location)\n",
    "        fig.show()\n",
    "        plt.show()\n",
    "\n",
    "# creation of a widget html showing the type of the sensor\n",
    "title = widgets.HTML(\n",
    "    value=\"<b>Streetscape</b> Sandbox\"\n",
    ")\n",
    "\n",
    "# creation of a widget dropdown object called dropbox1\n",
    "dropbox1 = widgets.Dropdown(\n",
    "    options=[('Seat', 1), ('Office', 2), ('Stair', 3), ('Table1', 4), ('Table2', 5)],\n",
    "    value=2,\n",
    "    description='1st Zone:',\n",
    ");\n",
    "\n",
    "# creation of a widget dropdown object called dropbox2\n",
    "dropbox2 = widgets.Dropdown(\n",
    "    options=[('Seat', 1), ('Office', 2), ('Stair', 3), ('Table1', 4), ('Table2', 5)],\n",
    "    value=2,\n",
    "    description='2nd Zone:',\n",
    ")\n",
    "\n",
    "# Button to click\n",
    "select_button = widgets.Button(\n",
    "    description='Apply',\n",
    ")\n",
    "\n",
    "out = widgets.Output()\n",
    "\n",
    "# Event Handlers\n",
    "dropbox1.observe(bar,names='value')\n",
    "dropbox2.observe(bar,names='value')\n",
    "select_button.on_click(get_user_selection)\n",
    "# Create a UI object to display things.\n",
    "ui = widgets.HBox([title,dropbox1,dropbox2,select_button]) # pass an array of widgets to the ui"
   ]
  },
  {
   "cell_type": "code",
   "execution_count": 14,
   "metadata": {
    "extensions": {
     "jupyter_dashboards": {
      "version": 1,
      "views": {
       "grid_default": {},
       "report_default": {
        "hidden": false
       }
      }
     }
    },
    "scrolled": false,
    "slideshow": {
     "slide_type": "slide"
    }
   },
   "outputs": [
    {
     "data": {
      "application/vnd.jupyter.widget-view+json": {
       "model_id": "ef40c7e2fb824b458c5f2d938eed1810",
       "version_major": 2,
       "version_minor": 0
      },
      "text/plain": [
       "HBox(children=(HTML(value='<b>Streetscape</b> Sandbox'), Dropdown(description='1st Zone:', index=1, options=((…"
      ]
     },
     "metadata": {},
     "output_type": "display_data"
    },
    {
     "data": {
      "application/vnd.jupyter.widget-view+json": {
       "model_id": "50ffae53e8254c19a285f7330f1db803",
       "version_major": 2,
       "version_minor": 0
      },
      "text/plain": [
       "Output()"
      ]
     },
     "metadata": {},
     "output_type": "display_data"
    }
   ],
   "source": [
    "display(ui)\n",
    "with out:\n",
    "    show()\n",
    "out"
   ]
  },
  {
   "cell_type": "markdown",
   "metadata": {
    "extensions": {
     "jupyter_dashboards": {
      "version": 1,
      "views": {
       "grid_default": {},
       "report_default": {
        "hidden": false
       }
      }
     }
    }
   },
   "source": [
    "# Desired Lines<a class=\"anchor\" id=\"desired-lines\"></a>"
   ]
  },
  {
   "cell_type": "code",
   "execution_count": 15,
   "metadata": {
    "extensions": {
     "jupyter_dashboards": {
      "version": 1,
      "views": {
       "grid_default": {},
       "report_default": {
        "hidden": false
       }
      }
     }
    }
   },
   "outputs": [
    {
     "data": {
      "text/plain": [
       "<Figure size 432x288 with 0 Axes>"
      ]
     },
     "metadata": {},
     "output_type": "display_data"
    }
   ],
   "source": [
    "from IPython.display import display\n",
    "# store login data in login.py\n",
    "%run login.py"
   ]
  },
  {
   "cell_type": "code",
   "execution_count": 16,
   "metadata": {
    "extensions": {
     "jupyter_dashboards": {
      "version": 1,
      "views": {
       "grid_default": {},
       "report_default": {
        "hidden": true
       }
      }
     }
    }
   },
   "outputs": [],
   "source": [
    "# login query as multiline formatted string\n",
    "# this assumes that login and pwd are defined \n",
    "# above\n",
    "\n",
    "loginquery = f\"\"\"\n",
    "mutation {{\n",
    "  logIn(\n",
    "      email:\\\"{login}\\\",\n",
    "      password:\\\"{pwd}\\\") {{\n",
    "    jwt {{\n",
    "      token\n",
    "      exp\n",
    "    }}\n",
    "  }}\n",
    "}}\n",
    "\"\"\""
   ]
  },
  {
   "cell_type": "code",
   "execution_count": 17,
   "metadata": {
    "extensions": {
     "jupyter_dashboards": {
      "version": 1,
      "views": {
       "grid_default": {},
       "report_default": {
        "hidden": true
       }
      }
     }
    }
   },
   "outputs": [],
   "source": [
    "import requests\n",
    "url = 'https://api.numina.co/graphql'\n",
    "\n",
    "mylogin = requests.post(url, json={'query': loginquery})"
   ]
  },
  {
   "cell_type": "code",
   "execution_count": 18,
   "metadata": {
    "extensions": {
     "jupyter_dashboards": {
      "version": 1,
      "views": {
       "grid_default": {},
       "report_default": {
        "hidden": true
       }
      }
     }
    }
   },
   "outputs": [],
   "source": [
    "token = mylogin.json()['data']['logIn']['jwt']['token']"
   ]
  },
  {
   "cell_type": "code",
   "execution_count": 19,
   "metadata": {
    "extensions": {
     "jupyter_dashboards": {
      "version": 1,
      "views": {
       "grid_default": {},
       "report_default": {
        "hidden": true
       }
      }
     }
    }
   },
   "outputs": [],
   "source": [
    "data = []\n",
    "event = []\n",
    "zone = []"
   ]
  },
  {
   "cell_type": "code",
   "execution_count": 20,
   "metadata": {
    "extensions": {
     "jupyter_dashboards": {
      "version": 1,
      "views": {
       "grid_default": {},
       "report_default": {
        "hidden": true
       }
      }
     }
    }
   },
   "outputs": [],
   "source": [
    "# query 1-7 are the streetscape heatmap information of each zone for Open Sidewalk #4\n",
    "query1 = \"\"\"\n",
    "query {\n",
    "  zoneHeatmaps(\n",
    "    zoneIds: [43607],\n",
    "    startTime: \"2019-03-02T15:00:00\",\n",
    "    endTime: \"2019-03-02T19:00:00\",\n",
    "    objClasses: [\"pedestrian\"],\n",
    "  ) {\n",
    "    edges {\n",
    "      node {\n",
    "        objClass \n",
    "        heatmap\n",
    "        time\n",
    "        zoneIds\n",
    "      }\n",
    "    }\n",
    "  }\n",
    "}\n",
    "\"\"\"\n",
    "tables_302 = requests.post(url, json={'query': query1}, headers = {'Authorization':token})\n",
    "heatmap1 = tables_302.json()['data']['zoneHeatmaps']['edges']\n",
    "data1 = heatmap1[0].get('node').get('heatmap')\n",
    "for i in range(len(data1)):\n",
    "    data.append(data1[i])\n",
    "    event.append('Open Sidewalk #4')\n",
    "    zone.append('tables')"
   ]
  },
  {
   "cell_type": "code",
   "execution_count": 21,
   "metadata": {
    "extensions": {
     "jupyter_dashboards": {
      "version": 1,
      "views": {
       "grid_default": {},
       "report_default": {
        "hidden": true
       }
      }
     }
    }
   },
   "outputs": [],
   "source": [
    "query2 = \"\"\"\n",
    "query {\n",
    "  zoneHeatmaps(\n",
    "    zoneIds: [43608],\n",
    "    startTime: \"2019-03-02T15:00:00\",\n",
    "    endTime: \"2019-03-02T19:00:00\",\n",
    "    objClasses: [\"pedestrian\"],\n",
    "  ) {\n",
    "    edges {\n",
    "      node {\n",
    "        objClass \n",
    "        heatmap\n",
    "        time\n",
    "        zoneIds\n",
    "      }\n",
    "    }\n",
    "  }\n",
    "}\n",
    "\"\"\"\n",
    "above_tables_302 = requests.post(url, json={'query': query2}, headers = {'Authorization':token})\n",
    "heatmap2 = above_tables_302.json()['data']['zoneHeatmaps']['edges']\n",
    "data2 = heatmap2[0].get('node').get('heatmap')\n",
    "for i in range(len(data2)):\n",
    "    data.append(data2[i])\n",
    "    event.append('Open Sidewalk #4')\n",
    "    zone.append('above tables')"
   ]
  },
  {
   "cell_type": "code",
   "execution_count": 22,
   "metadata": {
    "extensions": {
     "jupyter_dashboards": {
      "version": 1,
      "views": {
       "grid_default": {},
       "report_default": {
        "hidden": true
       }
      }
     }
    }
   },
   "outputs": [],
   "source": [
    "query3 = \"\"\"\n",
    "query {\n",
    "  zoneHeatmaps(\n",
    "    zoneIds: [43609],\n",
    "    startTime: \"2019-03-02T15:00:00\",\n",
    "    endTime: \"2019-03-02T19:00:00\",\n",
    "    objClasses: [\"pedestrian\"],\n",
    "  ) {\n",
    "    edges {\n",
    "      node {\n",
    "        objClass \n",
    "        heatmap\n",
    "        time\n",
    "        zoneIds\n",
    "      }\n",
    "    }\n",
    "  }\n",
    "}\n",
    "\"\"\"\n",
    "besides_tables_302 = requests.post(url, json={'query': query3}, headers = {'Authorization':token})\n",
    "heatmap3 = besides_tables_302.json()['data']['zoneHeatmaps']['edges']\n",
    "data3 = heatmap3[0].get('node').get('heatmap')\n",
    "for i in range(len(data3)):\n",
    "    data.append(data3[i])\n",
    "    event.append('Open Sidewalk #4')\n",
    "    zone.append('besides tables')"
   ]
  },
  {
   "cell_type": "code",
   "execution_count": 23,
   "metadata": {
    "extensions": {
     "jupyter_dashboards": {
      "version": 1,
      "views": {
       "grid_default": {},
       "report_default": {
        "hidden": true
       }
      }
     }
    }
   },
   "outputs": [],
   "source": [
    "query4 = \"\"\"\n",
    "query {\n",
    "  zoneHeatmaps(\n",
    "    zoneIds: [43610],\n",
    "    startTime: \"2019-03-02T15:00:00\",\n",
    "    endTime: \"2019-03-02T19:00:00\",\n",
    "    objClasses: [\"pedestrian\"],\n",
    "  ) {\n",
    "    edges {\n",
    "      node {\n",
    "        objClass \n",
    "        heatmap\n",
    "        time\n",
    "        zoneIds\n",
    "      }\n",
    "    }\n",
    "  }\n",
    "}\n",
    "\"\"\"\n",
    "under_tables_302 = requests.post(url, json={'query': query4}, headers = {'Authorization':token})\n",
    "heatmap4 = under_tables_302.json()['data']['zoneHeatmaps']['edges']\n",
    "data4 = heatmap4[0].get('node').get('heatmap')\n",
    "for i in range(len(data4)):\n",
    "    data.append(data4[i])\n",
    "    event.append('Open Sidewalk #4')\n",
    "    zone.append('under tables')"
   ]
  },
  {
   "cell_type": "code",
   "execution_count": 24,
   "metadata": {
    "extensions": {
     "jupyter_dashboards": {
      "version": 1,
      "views": {
       "grid_default": {},
       "report_default": {
        "hidden": true
       }
      }
     }
    }
   },
   "outputs": [],
   "source": [
    "query5 = \"\"\"\n",
    "query {\n",
    "  zoneHeatmaps(\n",
    "    zoneIds: [43611],\n",
    "    startTime: \"2019-03-02T15:00:00\",\n",
    "    endTime: \"2019-03-02T19:00:00\",\n",
    "    objClasses: [\"pedestrian\"],\n",
    "  ) {\n",
    "    edges {\n",
    "      node {\n",
    "        objClass \n",
    "        heatmap\n",
    "        time\n",
    "        zoneIds\n",
    "      }\n",
    "    }\n",
    "  }\n",
    "}\n",
    "\"\"\"\n",
    "entrance_302 = requests.post(url, json={'query': query5}, headers = {'Authorization':token})\n",
    "heatmap5 = entrance_302.json()['data']['zoneHeatmaps']['edges']\n",
    "data5 = heatmap5[0].get('node').get('heatmap')\n",
    "for i in range(len(data5)):\n",
    "    data.append(data5[i])\n",
    "    event.append('Open Sidewalk #4')\n",
    "    zone.append('entrance')"
   ]
  },
  {
   "cell_type": "code",
   "execution_count": 25,
   "metadata": {
    "extensions": {
     "jupyter_dashboards": {
      "version": 1,
      "views": {
       "grid_default": {},
       "report_default": {
        "hidden": true
       }
      }
     }
    }
   },
   "outputs": [],
   "source": [
    "query6 = \"\"\"\n",
    "query {\n",
    "  zoneHeatmaps(\n",
    "    zoneIds: [43612],\n",
    "    startTime: \"2019-03-02T15:00:00\",\n",
    "    endTime: \"2019-03-02T19:00:00\",\n",
    "    objClasses: [\"pedestrian\"],\n",
    "  ) {\n",
    "    edges {\n",
    "      node {\n",
    "        objClass \n",
    "        heatmap\n",
    "        time\n",
    "        zoneIds\n",
    "      }\n",
    "    }\n",
    "  }\n",
    "}\n",
    "\"\"\"\n",
    "sidewalk1_302 = requests.post(url, json={'query': query6}, headers = {'Authorization':token})\n",
    "heatmap6 = sidewalk1_302.json()['data']['zoneHeatmaps']['edges']\n",
    "data6 = heatmap6[0].get('node').get('heatmap')\n",
    "for i in range(len(data6)):\n",
    "    data.append(data6[i])\n",
    "    event.append('Open Sidewalk #4')\n",
    "    zone.append('sidewalk1')"
   ]
  },
  {
   "cell_type": "code",
   "execution_count": 26,
   "metadata": {
    "extensions": {
     "jupyter_dashboards": {
      "version": 1,
      "views": {
       "grid_default": {},
       "report_default": {
        "hidden": true
       }
      }
     }
    }
   },
   "outputs": [],
   "source": [
    "query7 = \"\"\"\n",
    "query {\n",
    "  zoneHeatmaps(\n",
    "    zoneIds: [43613],\n",
    "    startTime: \"2019-03-02T15:00:00\",\n",
    "    endTime: \"2019-03-02T19:00:00\",\n",
    "    objClasses: [\"pedestrian\"],\n",
    "  ) {\n",
    "    edges {\n",
    "      node {\n",
    "        objClass \n",
    "        heatmap\n",
    "        time\n",
    "        zoneIds\n",
    "      }\n",
    "    }\n",
    "  }\n",
    "}\n",
    "\"\"\"\n",
    "sidewalk2_302 = requests.post(url, json={'query': query7}, headers = {'Authorization':token})\n",
    "heatmap7 = sidewalk2_302.json()['data']['zoneHeatmaps']['edges']\n",
    "data7 = heatmap7[0].get('node').get('heatmap')\n",
    "for i in range(len(data7)):\n",
    "    data.append(data7[i])\n",
    "    event.append('Open Sidewalk #4')\n",
    "    zone.append('sidewalk2')"
   ]
  },
  {
   "cell_type": "code",
   "execution_count": 27,
   "metadata": {
    "extensions": {
     "jupyter_dashboards": {
      "version": 1,
      "views": {
       "grid_default": {},
       "report_default": {
        "hidden": true
       }
      }
     }
    }
   },
   "outputs": [],
   "source": [
    "# Store the streetscape heatmap information of Open Sidewalk #4 in the dataframe \n",
    "heatmap_302_list = {'heatmap': data, 'event': event, 'zone': zone}\n",
    "heatmap_302_df = pd.DataFrame.from_dict(heatmap_302_list)  "
   ]
  },
  {
   "cell_type": "code",
   "execution_count": 28,
   "metadata": {
    "extensions": {
     "jupyter_dashboards": {
      "version": 1,
      "views": {
       "grid_default": {},
       "report_default": {
        "hidden": true
       }
      }
     }
    }
   },
   "outputs": [],
   "source": [
    "data_629 = []\n",
    "event_629 = []\n",
    "zone_629 = []"
   ]
  },
  {
   "cell_type": "code",
   "execution_count": 29,
   "metadata": {
    "extensions": {
     "jupyter_dashboards": {
      "version": 1,
      "views": {
       "grid_default": {},
       "report_default": {
        "hidden": true
       }
      }
     }
    }
   },
   "outputs": [],
   "source": [
    "# query 8-14 are the streetscape heatmap information of each zone for Sidewalk Summer Open House\n",
    "query8 = \"\"\"\n",
    "query {\n",
    "  zoneHeatmaps(\n",
    "    zoneIds: [43607],\n",
    "    startTime: \"2019-06-29T12:00:00\",\n",
    "    endTime: \"2019-06-29T18:00:00\",\n",
    "    objClasses: [\"pedestrian\"],\n",
    "  ) {\n",
    "    edges {\n",
    "      node {\n",
    "        objClass \n",
    "        heatmap\n",
    "        time\n",
    "        zoneIds\n",
    "      }\n",
    "    }\n",
    "  }\n",
    "}\n",
    "\"\"\"\n",
    "tables_629 = requests.post(url, json={'query': query8}, headers = {'Authorization':token})\n",
    "heatmap8 = tables_629.json()['data']['zoneHeatmaps']['edges']\n",
    "data8 = heatmap8[0].get('node').get('heatmap')\n",
    "for i in range(len(data8)):\n",
    "    data_629.append(data8[i])\n",
    "    event_629.append('Sidewalk Summer Open House')\n",
    "    zone_629.append('tables')"
   ]
  },
  {
   "cell_type": "code",
   "execution_count": 30,
   "metadata": {
    "extensions": {
     "jupyter_dashboards": {
      "version": 1,
      "views": {
       "grid_default": {},
       "report_default": {
        "hidden": true
       }
      }
     }
    }
   },
   "outputs": [],
   "source": [
    "query9 = \"\"\"\n",
    "query {\n",
    "  zoneHeatmaps(\n",
    "    zoneIds: [43608],\n",
    "    startTime: \"2019-06-29T12:00:00\",\n",
    "    endTime: \"2019-06-29T18:00:00\",\n",
    "    objClasses: [\"pedestrian\"],\n",
    "  ) {\n",
    "    edges {\n",
    "      node {\n",
    "        objClass \n",
    "        heatmap\n",
    "        time\n",
    "        zoneIds\n",
    "      }\n",
    "    }\n",
    "  }\n",
    "}\n",
    "\"\"\"\n",
    "above_tables_629 = requests.post(url, json={'query': query9}, headers = {'Authorization':token})\n",
    "heatmap9 = above_tables_629.json()['data']['zoneHeatmaps']['edges']\n",
    "data9 = heatmap9[0].get('node').get('heatmap')\n",
    "for i in range(len(data9)):\n",
    "    data_629.append(data9[i])\n",
    "    event_629.append('Sidewalk Summer Open House')\n",
    "    zone_629.append('above tables')"
   ]
  },
  {
   "cell_type": "code",
   "execution_count": 31,
   "metadata": {
    "extensions": {
     "jupyter_dashboards": {
      "version": 1,
      "views": {
       "grid_default": {},
       "report_default": {
        "hidden": true
       }
      }
     }
    }
   },
   "outputs": [],
   "source": [
    "query10 = \"\"\"\n",
    "query {\n",
    "  zoneHeatmaps(\n",
    "    zoneIds: [43609],\n",
    "    startTime: \"2019-06-29T12:00:00\",\n",
    "    endTime: \"2019-06-29T18:00:00\",\n",
    "    objClasses: [\"pedestrian\"],\n",
    "  ) {\n",
    "    edges {\n",
    "      node {\n",
    "        objClass \n",
    "        heatmap\n",
    "        time\n",
    "        zoneIds\n",
    "      }\n",
    "    }\n",
    "  }\n",
    "}\n",
    "\"\"\"\n",
    "besides_tables_629 = requests.post(url, json={'query': query10}, headers = {'Authorization':token})\n",
    "heatmap10 = besides_tables_629.json()['data']['zoneHeatmaps']['edges']\n",
    "data10 = heatmap10[0].get('node').get('heatmap')\n",
    "for i in range(len(data10)):\n",
    "    data_629.append(data10[i])\n",
    "    event_629.append('Sidewalk Summer Open House')\n",
    "    zone_629.append('besides tables')"
   ]
  },
  {
   "cell_type": "code",
   "execution_count": 32,
   "metadata": {
    "extensions": {
     "jupyter_dashboards": {
      "version": 1,
      "views": {
       "grid_default": {},
       "report_default": {
        "hidden": true
       }
      }
     }
    }
   },
   "outputs": [],
   "source": [
    "query11 = \"\"\"\n",
    "query {\n",
    "  zoneHeatmaps(\n",
    "    zoneIds: [43610],\n",
    "    startTime: \"2019-06-29T12:00:00\",\n",
    "    endTime: \"2019-06-29T18:00:00\",\n",
    "    objClasses: [\"pedestrian\"],\n",
    "  ) {\n",
    "    edges {\n",
    "      node {\n",
    "        objClass \n",
    "        heatmap\n",
    "        time\n",
    "        zoneIds\n",
    "      }\n",
    "    }\n",
    "  }\n",
    "}\n",
    "\"\"\"\n",
    "under_tables_629 = requests.post(url, json={'query': query11}, headers = {'Authorization':token})\n",
    "heatmap11 = under_tables_629.json()['data']['zoneHeatmaps']['edges']\n",
    "data11 = heatmap11[0].get('node').get('heatmap')\n",
    "for i in range(len(data11)):\n",
    "    data_629.append(data11[i])\n",
    "    event_629.append('Sidewalk Summer Open House')\n",
    "    zone_629.append('under tables')"
   ]
  },
  {
   "cell_type": "code",
   "execution_count": 33,
   "metadata": {
    "extensions": {
     "jupyter_dashboards": {
      "version": 1,
      "views": {
       "grid_default": {},
       "report_default": {
        "hidden": true
       }
      }
     }
    }
   },
   "outputs": [],
   "source": [
    "query12 = \"\"\"\n",
    "query {\n",
    "  zoneHeatmaps(\n",
    "    zoneIds: [43611],\n",
    "    startTime: \"2019-06-29T12:00:00\",\n",
    "    endTime: \"2019-06-29T18:00:00\",\n",
    "    objClasses: [\"pedestrian\"],\n",
    "  ) {\n",
    "    edges {\n",
    "      node {\n",
    "        objClass \n",
    "        heatmap\n",
    "        time\n",
    "        zoneIds\n",
    "      }\n",
    "    }\n",
    "  }\n",
    "}\n",
    "\"\"\"\n",
    "entrance_629 = requests.post(url, json={'query': query12}, headers = {'Authorization':token})\n",
    "heatmap12 = entrance_629.json()['data']['zoneHeatmaps']['edges']\n",
    "data12 = heatmap12[0].get('node').get('heatmap')\n",
    "for i in range(len(data12)):\n",
    "    data_629.append(data12[i])\n",
    "    event_629.append('Sidewalk Summer Open House')\n",
    "    zone_629.append('entrance')"
   ]
  },
  {
   "cell_type": "code",
   "execution_count": 34,
   "metadata": {
    "extensions": {
     "jupyter_dashboards": {
      "version": 1,
      "views": {
       "grid_default": {},
       "report_default": {
        "hidden": true
       }
      }
     }
    }
   },
   "outputs": [],
   "source": [
    "query13 = \"\"\"\n",
    "query {\n",
    "  zoneHeatmaps(\n",
    "    zoneIds: [43612],\n",
    "    startTime: \"2019-06-29T12:00:00\",\n",
    "    endTime: \"2019-06-29T18:00:00\",\n",
    "    objClasses: [\"pedestrian\"],\n",
    "  ) {\n",
    "    edges {\n",
    "      node {\n",
    "        objClass \n",
    "        heatmap\n",
    "        time\n",
    "        zoneIds\n",
    "      }\n",
    "    }\n",
    "  }\n",
    "}\n",
    "\"\"\"\n",
    "sidewalk1_629 = requests.post(url, json={'query': query13}, headers = {'Authorization':token})\n",
    "heatmap13 = sidewalk1_629.json()['data']['zoneHeatmaps']['edges']\n",
    "data13 = heatmap13[0].get('node').get('heatmap')\n",
    "for i in range(len(data13)):\n",
    "    data_629.append(data13[i])\n",
    "    event_629.append('Sidewalk Summer Open House')\n",
    "    zone_629.append('sidewalk1')"
   ]
  },
  {
   "cell_type": "code",
   "execution_count": 35,
   "metadata": {
    "extensions": {
     "jupyter_dashboards": {
      "version": 1,
      "views": {
       "grid_default": {},
       "report_default": {
        "hidden": true
       }
      }
     }
    }
   },
   "outputs": [],
   "source": [
    "query14 = \"\"\"\n",
    "query {\n",
    "  zoneHeatmaps(\n",
    "    zoneIds: [43613],\n",
    "    startTime: \"2019-06-29T12:00:00\",\n",
    "    endTime: \"2019-06-29T18:00:00\",\n",
    "    objClasses: [\"pedestrian\"],\n",
    "  ) {\n",
    "    edges {\n",
    "      node {\n",
    "        objClass \n",
    "        heatmap\n",
    "        time\n",
    "        zoneIds\n",
    "      }\n",
    "    }\n",
    "  }\n",
    "}\n",
    "\"\"\"\n",
    "sidewalk2_629 = requests.post(url, json={'query': query14}, headers = {'Authorization':token})\n",
    "heatmap14 = sidewalk2_629.json()['data']['zoneHeatmaps']['edges']\n",
    "data14 = heatmap14[0].get('node').get('heatmap')\n",
    "for i in range(len(data14)):\n",
    "    data_629.append(data14[i])\n",
    "    event_629.append('Sidewalk Summer Open House')\n",
    "    zone_629.append('sidewalk2')"
   ]
  },
  {
   "cell_type": "code",
   "execution_count": 36,
   "metadata": {
    "extensions": {
     "jupyter_dashboards": {
      "version": 1,
      "views": {
       "grid_default": {},
       "report_default": {
        "hidden": true
       }
      }
     }
    }
   },
   "outputs": [],
   "source": [
    "# Store the streetscape heatmap information of Sidewalk Summer Open House in the dataframe \n",
    "heatmap_629_list = {'heatmap': data_629, 'event': event_629, 'zone': zone_629}\n",
    "heatmap_629_df = pd.DataFrame.from_dict(heatmap_629_list)  "
   ]
  },
  {
   "cell_type": "code",
   "execution_count": 37,
   "metadata": {
    "extensions": {
     "jupyter_dashboards": {
      "version": 1,
      "views": {
       "grid_default": {},
       "report_default": {
        "hidden": true
       }
      }
     }
    }
   },
   "outputs": [],
   "source": [
    "data_815 = []\n",
    "event_815 = []\n",
    "zone_815 = []"
   ]
  },
  {
   "cell_type": "code",
   "execution_count": 38,
   "metadata": {
    "extensions": {
     "jupyter_dashboards": {
      "version": 1,
      "views": {
       "grid_default": {},
       "report_default": {
        "hidden": true
       }
      }
     }
    }
   },
   "outputs": [],
   "source": [
    "# query 15-21 are the streetscape heatmap information of each zone for City Moments\n",
    "query15 = \"\"\"\n",
    "query {\n",
    "  zoneHeatmaps(\n",
    "    zoneIds: [43607],\n",
    "    startTime: \"2019-08-15T19:00:00\",\n",
    "    endTime: \"2019-08-16T02:00:00\",\n",
    "    objClasses: [\"pedestrian\"],\n",
    "  ) {\n",
    "    edges {\n",
    "      node {\n",
    "        objClass \n",
    "        heatmap\n",
    "        time\n",
    "        zoneIds\n",
    "      }\n",
    "    }\n",
    "  }\n",
    "}\n",
    "\"\"\"\n",
    "tables_815 = requests.post(url, json={'query': query15}, headers = {'Authorization':token})\n",
    "heatmap15 = tables_815.json()['data']['zoneHeatmaps']['edges']\n",
    "data15 = heatmap15[0].get('node').get('heatmap')\n",
    "for i in range(len(data15)):\n",
    "    data_815.append(data15[i])\n",
    "    event_815.append('City Moments: An event celebrating art and urban life')\n",
    "    zone_815.append('tables')"
   ]
  },
  {
   "cell_type": "code",
   "execution_count": 39,
   "metadata": {
    "extensions": {
     "jupyter_dashboards": {
      "version": 1,
      "views": {
       "grid_default": {},
       "report_default": {
        "hidden": true
       }
      }
     }
    }
   },
   "outputs": [],
   "source": [
    "query16 = \"\"\"\n",
    "query {\n",
    "  zoneHeatmaps(\n",
    "    zoneIds: [43608],\n",
    "    startTime: \"2019-08-15T19:00:00\",\n",
    "    endTime: \"2019-08-16T02:00:00\",\n",
    "    objClasses: [\"pedestrian\"],\n",
    "  ) {\n",
    "    edges {\n",
    "      node {\n",
    "        objClass \n",
    "        heatmap\n",
    "        time\n",
    "        zoneIds\n",
    "      }\n",
    "    }\n",
    "  }\n",
    "}\n",
    "\"\"\"\n",
    "above_tables_815 = requests.post(url, json={'query': query16}, headers = {'Authorization':token})\n",
    "heatmap16 = above_tables_815.json()['data']['zoneHeatmaps']['edges']\n",
    "data16 = heatmap16[0].get('node').get('heatmap')\n",
    "for i in range(len(data16)):\n",
    "    data_815.append(data16[i])\n",
    "    event_815.append('City Moments: An event celebrating art and urban life')\n",
    "    zone_815.append('above tables')"
   ]
  },
  {
   "cell_type": "code",
   "execution_count": 40,
   "metadata": {
    "extensions": {
     "jupyter_dashboards": {
      "version": 1,
      "views": {
       "grid_default": {},
       "report_default": {
        "hidden": true
       }
      }
     }
    }
   },
   "outputs": [],
   "source": [
    "query17 = \"\"\"\n",
    "query {\n",
    "  zoneHeatmaps(\n",
    "    zoneIds: [43609],\n",
    "    startTime: \"2019-08-15T19:00:00\",\n",
    "    endTime: \"2019-08-16T02:00:00\",\n",
    "    objClasses: [\"pedestrian\"],\n",
    "  ) {\n",
    "    edges {\n",
    "      node {\n",
    "        objClass \n",
    "        heatmap\n",
    "        time\n",
    "        zoneIds\n",
    "      }\n",
    "    }\n",
    "  }\n",
    "}\n",
    "\"\"\"\n",
    "besides_tables_815 = requests.post(url, json={'query': query17}, headers = {'Authorization':token})\n",
    "heatmap17 = besides_tables_815.json()['data']['zoneHeatmaps']['edges']\n",
    "data17 = heatmap17[0].get('node').get('heatmap')\n",
    "for i in range(len(data17)):\n",
    "    data_815.append(data17[i])\n",
    "    event_815.append('City Moments: An event celebrating art and urban life')\n",
    "    zone_815.append('besides tables')"
   ]
  },
  {
   "cell_type": "code",
   "execution_count": 41,
   "metadata": {
    "extensions": {
     "jupyter_dashboards": {
      "version": 1,
      "views": {
       "grid_default": {},
       "report_default": {
        "hidden": true
       }
      }
     }
    }
   },
   "outputs": [],
   "source": [
    "query18 = \"\"\"\n",
    "query {\n",
    "  zoneHeatmaps(\n",
    "    zoneIds: [43610],\n",
    "    startTime: \"2019-08-15T19:00:00\",\n",
    "    endTime: \"2019-08-16T02:00:00\",\n",
    "    objClasses: [\"pedestrian\"],\n",
    "  ) {\n",
    "    edges {\n",
    "      node {\n",
    "        objClass \n",
    "        heatmap\n",
    "        time\n",
    "        zoneIds\n",
    "      }\n",
    "    }\n",
    "  }\n",
    "}\n",
    "\"\"\"\n",
    "under_tables_815 = requests.post(url, json={'query': query18}, headers = {'Authorization':token})\n",
    "heatmap18 = under_tables_815.json()['data']['zoneHeatmaps']['edges']\n",
    "data18 = heatmap18[0].get('node').get('heatmap')\n",
    "for i in range(len(data18)):\n",
    "    data_815.append(data18[i])\n",
    "    event_815.append('City Moments: An event celebrating art and urban life')\n",
    "    zone_815.append('under tables')"
   ]
  },
  {
   "cell_type": "code",
   "execution_count": 42,
   "metadata": {
    "extensions": {
     "jupyter_dashboards": {
      "version": 1,
      "views": {
       "grid_default": {},
       "report_default": {
        "hidden": true
       }
      }
     }
    }
   },
   "outputs": [],
   "source": [
    "query19 = \"\"\"\n",
    "query {\n",
    "  zoneHeatmaps(\n",
    "    zoneIds: [43611],\n",
    "    startTime: \"2019-08-15T19:00:00\",\n",
    "    endTime: \"2019-08-16T02:00:00\",\n",
    "    objClasses: [\"pedestrian\"],\n",
    "  ) {\n",
    "    edges {\n",
    "      node {\n",
    "        objClass \n",
    "        heatmap\n",
    "        time\n",
    "        zoneIds\n",
    "      }\n",
    "    }\n",
    "  }\n",
    "}\n",
    "\"\"\"\n",
    "entrance_815 = requests.post(url, json={'query': query19}, headers = {'Authorization':token})\n",
    "heatmap19 = entrance_815.json()['data']['zoneHeatmaps']['edges']\n",
    "data19 = heatmap19[0].get('node').get('heatmap')\n",
    "for i in range(len(data19)):\n",
    "    data_815.append(data19[i])\n",
    "    event_815.append('City Moments: An event celebrating art and urban life')\n",
    "    zone_815.append('entrance')"
   ]
  },
  {
   "cell_type": "code",
   "execution_count": 43,
   "metadata": {
    "extensions": {
     "jupyter_dashboards": {
      "version": 1,
      "views": {
       "grid_default": {},
       "report_default": {
        "hidden": true
       }
      }
     }
    }
   },
   "outputs": [],
   "source": [
    "query20 = \"\"\"\n",
    "query {\n",
    "  zoneHeatmaps(\n",
    "    zoneIds: [43612],\n",
    "    startTime: \"2019-08-15T19:00:00\",\n",
    "    endTime: \"2019-08-16T02:00:00\",\n",
    "    objClasses: [\"pedestrian\"],\n",
    "  ) {\n",
    "    edges {\n",
    "      node {\n",
    "        objClass \n",
    "        heatmap\n",
    "        time\n",
    "        zoneIds\n",
    "      }\n",
    "    }\n",
    "  }\n",
    "}\n",
    "\"\"\"\n",
    "sidewalk1_815 = requests.post(url, json={'query': query20}, headers = {'Authorization':token})\n",
    "heatmap20 = sidewalk1_815.json()['data']['zoneHeatmaps']['edges']\n",
    "data20 = heatmap20[0].get('node').get('heatmap')\n",
    "for i in range(len(data20)):\n",
    "    data_815.append(data20[i])\n",
    "    event_815.append('City Moments: An event celebrating art and urban life')\n",
    "    zone_815.append('sidewalk1')"
   ]
  },
  {
   "cell_type": "code",
   "execution_count": 44,
   "metadata": {
    "extensions": {
     "jupyter_dashboards": {
      "version": 1,
      "views": {
       "grid_default": {},
       "report_default": {
        "hidden": true
       }
      }
     }
    }
   },
   "outputs": [],
   "source": [
    "query21 = \"\"\"\n",
    "query {\n",
    "  zoneHeatmaps(\n",
    "    zoneIds: [43613],\n",
    "    startTime: \"2019-08-15T19:00:00\",\n",
    "    endTime: \"2019-08-16T02:00:00\",\n",
    "    objClasses: [\"pedestrian\"],\n",
    "  ) {\n",
    "    edges {\n",
    "      node {\n",
    "        objClass \n",
    "        heatmap\n",
    "        time\n",
    "        zoneIds\n",
    "      }\n",
    "    }\n",
    "  }\n",
    "}\n",
    "\"\"\"\n",
    "sidewalk2_815 = requests.post(url, json={'query': query21}, headers = {'Authorization':token})\n",
    "heatmap21 = sidewalk2_815.json()['data']['zoneHeatmaps']['edges']\n",
    "data21 = heatmap21[0].get('node').get('heatmap')\n",
    "for i in range(len(data21)):\n",
    "    data_815.append(data21[i])\n",
    "    event_815.append('City Moments: An event celebrating art and urban life')\n",
    "    zone_815.append('sidewalk2')"
   ]
  },
  {
   "cell_type": "code",
   "execution_count": 45,
   "metadata": {
    "extensions": {
     "jupyter_dashboards": {
      "version": 1,
      "views": {
       "grid_default": {},
       "report_default": {
        "hidden": true
       }
      }
     }
    }
   },
   "outputs": [],
   "source": [
    "# Store the streetscape heatmap information of City Moments in the dataframe \n",
    "heatmap_815_list = {'heatmap': data_815, 'event': event_815, 'zone': zone_815}\n",
    "heatmap_815_df = pd.DataFrame.from_dict(heatmap_815_list)  "
   ]
  },
  {
   "cell_type": "code",
   "execution_count": 46,
   "metadata": {
    "extensions": {
     "jupyter_dashboards": {
      "version": 1,
      "views": {
       "grid_default": {},
       "report_default": {
        "hidden": true
       }
      }
     }
    }
   },
   "outputs": [],
   "source": [
    "data_926 = []\n",
    "event_926 = []\n",
    "zone_926 = []"
   ]
  },
  {
   "cell_type": "code",
   "execution_count": 47,
   "metadata": {
    "extensions": {
     "jupyter_dashboards": {
      "version": 1,
      "views": {
       "grid_default": {},
       "report_default": {
        "hidden": true
       }
      }
     }
    }
   },
   "outputs": [],
   "source": [
    "# query 22-28 are the streetscape heatmap information of each zone for Sidewalk Labs opens its door for Startup Open House\n",
    "query22 = \"\"\"\n",
    "query {\n",
    "  zoneHeatmaps(\n",
    "    zoneIds: [43607],\n",
    "    startTime: \"2019-09-26T16:00:00\",\n",
    "    endTime: \"2019-09-26T20:00:00\",\n",
    "    objClasses: [\"pedestrian\"],\n",
    "  ) {\n",
    "    edges {\n",
    "      node {\n",
    "        objClass \n",
    "        heatmap\n",
    "        time\n",
    "        zoneIds\n",
    "      }\n",
    "    }\n",
    "  }\n",
    "}\n",
    "\"\"\"\n",
    "tables_926 = requests.post(url, json={'query': query22}, headers = {'Authorization':token})\n",
    "heatmap22 = tables_926.json()['data']['zoneHeatmaps']['edges']\n",
    "data22 = heatmap22[0].get('node').get('heatmap')\n",
    "for i in range(len(data22)):\n",
    "    data_926.append(data22[i])\n",
    "    event_926.append('Sidewalk Labs opens its door for Startup Open House')\n",
    "    zone_926.append('tables')"
   ]
  },
  {
   "cell_type": "code",
   "execution_count": 48,
   "metadata": {
    "extensions": {
     "jupyter_dashboards": {
      "version": 1,
      "views": {
       "grid_default": {},
       "report_default": {
        "hidden": true
       }
      }
     }
    }
   },
   "outputs": [],
   "source": [
    "query23 = \"\"\"\n",
    "query {\n",
    "  zoneHeatmaps(\n",
    "    zoneIds: [43608],\n",
    "    startTime: \"2019-09-26T16:00:00\",\n",
    "    endTime: \"2019-09-26T20:00:00\",\n",
    "    objClasses: [\"pedestrian\"],\n",
    "  ) {\n",
    "    edges {\n",
    "      node {\n",
    "        objClass \n",
    "        heatmap\n",
    "        time\n",
    "        zoneIds\n",
    "      }\n",
    "    }\n",
    "  }\n",
    "}\n",
    "\"\"\"\n",
    "above_tables_926 = requests.post(url, json={'query': query23}, headers = {'Authorization':token})\n",
    "heatmap23 = above_tables_926.json()['data']['zoneHeatmaps']['edges']\n",
    "data23 = heatmap23[0].get('node').get('heatmap')\n",
    "for i in range(len(data23)):\n",
    "    data_926.append(data23[i])\n",
    "    event_926.append('Sidewalk Labs opens its door for Startup Open House')\n",
    "    zone_926.append('above tables')"
   ]
  },
  {
   "cell_type": "code",
   "execution_count": 49,
   "metadata": {
    "extensions": {
     "jupyter_dashboards": {
      "version": 1,
      "views": {
       "grid_default": {},
       "report_default": {
        "hidden": true
       }
      }
     }
    }
   },
   "outputs": [],
   "source": [
    "query24 = \"\"\"\n",
    "query {\n",
    "  zoneHeatmaps(\n",
    "    zoneIds: [43609],\n",
    "    startTime: \"2019-09-26T16:00:00\",\n",
    "    endTime: \"2019-09-26T20:00:00\",\n",
    "    objClasses: [\"pedestrian\"],\n",
    "  ) {\n",
    "    edges {\n",
    "      node {\n",
    "        objClass \n",
    "        heatmap\n",
    "        time\n",
    "        zoneIds\n",
    "      }\n",
    "    }\n",
    "  }\n",
    "}\n",
    "\"\"\"\n",
    "besides_tables_926 = requests.post(url, json={'query': query24}, headers = {'Authorization':token})\n",
    "heatmap24 = besides_tables_926.json()['data']['zoneHeatmaps']['edges']\n",
    "data24 = heatmap24[0].get('node').get('heatmap')\n",
    "for i in range(len(data24)):\n",
    "    data_926.append(data24[i])\n",
    "    event_926.append('Sidewalk Labs opens its door for Startup Open House')\n",
    "    zone_926.append('besides tables')"
   ]
  },
  {
   "cell_type": "code",
   "execution_count": 50,
   "metadata": {
    "extensions": {
     "jupyter_dashboards": {
      "version": 1,
      "views": {
       "grid_default": {},
       "report_default": {
        "hidden": true
       }
      }
     }
    }
   },
   "outputs": [],
   "source": [
    "query25 = \"\"\"\n",
    "query {\n",
    "  zoneHeatmaps(\n",
    "    zoneIds: [43610],\n",
    "    startTime: \"2019-09-26T16:00:00\",\n",
    "    endTime: \"2019-09-26T20:00:00\",\n",
    "    objClasses: [\"pedestrian\"],\n",
    "  ) {\n",
    "    edges {\n",
    "      node {\n",
    "        objClass \n",
    "        heatmap\n",
    "        time\n",
    "        zoneIds\n",
    "      }\n",
    "    }\n",
    "  }\n",
    "}\n",
    "\"\"\"\n",
    "under_tables_926 = requests.post(url, json={'query': query25}, headers = {'Authorization':token})\n",
    "heatmap25 = under_tables_926.json()['data']['zoneHeatmaps']['edges']\n",
    "data25 = heatmap25[0].get('node').get('heatmap')\n",
    "for i in range(len(data25)):\n",
    "    data_926.append(data25[i])\n",
    "    event_926.append('Sidewalk Labs opens its door for Startup Open House')\n",
    "    zone_926.append('under tables')"
   ]
  },
  {
   "cell_type": "code",
   "execution_count": 51,
   "metadata": {
    "extensions": {
     "jupyter_dashboards": {
      "version": 1,
      "views": {
       "grid_default": {},
       "report_default": {
        "hidden": true
       }
      }
     }
    }
   },
   "outputs": [],
   "source": [
    "query26 = \"\"\"\n",
    "query {\n",
    "  zoneHeatmaps(\n",
    "    zoneIds: [43611],\n",
    "    startTime: \"2019-09-26T16:00:00\",\n",
    "    endTime: \"2019-09-26T20:00:00\",\n",
    "    objClasses: [\"pedestrian\"],\n",
    "  ) {\n",
    "    edges {\n",
    "      node {\n",
    "        objClass \n",
    "        heatmap\n",
    "        time\n",
    "        zoneIds\n",
    "      }\n",
    "    }\n",
    "  }\n",
    "}\n",
    "\"\"\"\n",
    "entrance_926 = requests.post(url, json={'query': query26}, headers = {'Authorization':token})\n",
    "heatmap26 = entrance_926.json()['data']['zoneHeatmaps']['edges']\n",
    "data26 = heatmap26[0].get('node').get('heatmap')\n",
    "for i in range(len(data26)):\n",
    "    data_926.append(data26[i])\n",
    "    event_926.append('Sidewalk Labs opens its door for Startup Open House')\n",
    "    zone_926.append('entrance')"
   ]
  },
  {
   "cell_type": "code",
   "execution_count": 52,
   "metadata": {
    "extensions": {
     "jupyter_dashboards": {
      "version": 1,
      "views": {
       "grid_default": {},
       "report_default": {
        "hidden": true
       }
      }
     }
    }
   },
   "outputs": [],
   "source": [
    "query27 = \"\"\"\n",
    "query {\n",
    "  zoneHeatmaps(\n",
    "    zoneIds: [43612],\n",
    "    startTime: \"2019-09-26T16:00:00\",\n",
    "    endTime: \"2019-09-26T20:00:00\",\n",
    "    objClasses: [\"pedestrian\"],\n",
    "  ) {\n",
    "    edges {\n",
    "      node {\n",
    "        objClass \n",
    "        heatmap\n",
    "        time\n",
    "        zoneIds\n",
    "      }\n",
    "    }\n",
    "  }\n",
    "}\n",
    "\"\"\"\n",
    "sidewalk1_926 = requests.post(url, json={'query': query27}, headers = {'Authorization':token})\n",
    "heatmap27 = sidewalk1_926.json()['data']['zoneHeatmaps']['edges']\n",
    "data27 = heatmap27[0].get('node').get('heatmap')\n",
    "for i in range(len(data27)):\n",
    "    data_926.append(data27[i])\n",
    "    event_926.append('Sidewalk Labs opens its door for Startup Open House')\n",
    "    zone_926.append('sidewalk1')"
   ]
  },
  {
   "cell_type": "code",
   "execution_count": 53,
   "metadata": {
    "extensions": {
     "jupyter_dashboards": {
      "version": 1,
      "views": {
       "grid_default": {},
       "report_default": {
        "hidden": true
       }
      }
     }
    }
   },
   "outputs": [],
   "source": [
    "query28 = \"\"\"\n",
    "query {\n",
    "  zoneHeatmaps(\n",
    "    zoneIds: [43613],\n",
    "    startTime: \"2019-09-26T16:00:00\",\n",
    "    endTime: \"2019-09-26T20:00:00\",\n",
    "    objClasses: [\"pedestrian\"],\n",
    "  ) {\n",
    "    edges {\n",
    "      node {\n",
    "        objClass \n",
    "        heatmap\n",
    "        time\n",
    "        zoneIds\n",
    "      }\n",
    "    }\n",
    "  }\n",
    "}\n",
    "\"\"\"\n",
    "sidewalk2_926 = requests.post(url, json={'query': query28}, headers = {'Authorization':token})\n",
    "heatmap28 = sidewalk2_926.json()['data']['zoneHeatmaps']['edges']\n",
    "data28 = heatmap28[0].get('node').get('heatmap')\n",
    "for i in range(len(data28)):\n",
    "    data_926.append(data28[i])\n",
    "    event_926.append('Sidewalk Labs opens its door for Startup Open House')\n",
    "    zone_926.append('sidewalk2')"
   ]
  },
  {
   "cell_type": "code",
   "execution_count": 54,
   "metadata": {
    "extensions": {
     "jupyter_dashboards": {
      "version": 1,
      "views": {
       "grid_default": {},
       "report_default": {
        "hidden": true
       }
      }
     }
    }
   },
   "outputs": [],
   "source": [
    "# Store the streetscape heatmap information of Startup Open House in the dataframe \n",
    "heatmap_926_list = {'heatmap': data_926, 'event': event_926, 'zone': zone_926}\n",
    "heatmap_926_df = pd.DataFrame.from_dict(heatmap_926_list)  "
   ]
  },
  {
   "cell_type": "code",
   "execution_count": 55,
   "metadata": {
    "extensions": {
     "jupyter_dashboards": {
      "version": 1,
      "views": {
       "grid_default": {},
       "report_default": {
        "hidden": true
       }
      }
     }
    }
   },
   "outputs": [],
   "source": [
    "data_1120 = []\n",
    "event_1120 = []\n",
    "zone_1120 = []"
   ]
  },
  {
   "cell_type": "code",
   "execution_count": 56,
   "metadata": {
    "extensions": {
     "jupyter_dashboards": {
      "version": 1,
      "views": {
       "grid_default": {},
       "report_default": {
        "hidden": true
       }
      }
     }
    }
   },
   "outputs": [],
   "source": [
    "# query 29-35 are the streetscape heatmap information of each zone for Ex Augmented Opera\n",
    "query29 = \"\"\"\n",
    "query {\n",
    "  zoneHeatmaps(\n",
    "    zoneIds: [43607],\n",
    "    startTime: \"2019-11-20T18:30:00\",\n",
    "    endTime: \"2019-11-23T22:00:00\",\n",
    "    objClasses: [\"pedestrian\"],\n",
    "  ) {\n",
    "    edges {\n",
    "      node {\n",
    "        objClass \n",
    "        heatmap\n",
    "        time\n",
    "        zoneIds\n",
    "      }\n",
    "    }\n",
    "  }\n",
    "}\n",
    "\"\"\"\n",
    "tables_1120 = requests.post(url, json={'query': query29}, headers = {'Authorization':token})\n",
    "heatmap29 = tables_1120.json()['data']['zoneHeatmaps']['edges']\n",
    "data29 = heatmap29[0].get('node').get('heatmap')\n",
    "for i in range(len(data29)):\n",
    "    data_1120.append(data29[i])\n",
    "    event_1120.append('Tap: Ex Augmented Opera')\n",
    "    zone_1120.append('tables')"
   ]
  },
  {
   "cell_type": "code",
   "execution_count": 57,
   "metadata": {
    "extensions": {
     "jupyter_dashboards": {
      "version": 1,
      "views": {
       "grid_default": {},
       "report_default": {
        "hidden": true
       }
      }
     }
    }
   },
   "outputs": [],
   "source": [
    "query30 = \"\"\"\n",
    "query {\n",
    "  zoneHeatmaps(\n",
    "    zoneIds: [43608],\n",
    "    startTime: \"2019-11-20T18:30:00\",\n",
    "    endTime: \"2019-11-23T22:00:00\",\n",
    "    objClasses: [\"pedestrian\"],\n",
    "  ) {\n",
    "    edges {\n",
    "      node {\n",
    "        objClass \n",
    "        heatmap\n",
    "        time\n",
    "        zoneIds\n",
    "      }\n",
    "    }\n",
    "  }\n",
    "}\n",
    "\"\"\"\n",
    "above_tables_1120 = requests.post(url, json={'query': query30}, headers = {'Authorization':token})\n",
    "heatmap30 = above_tables_1120.json()['data']['zoneHeatmaps']['edges']\n",
    "data30 = heatmap30[0].get('node').get('heatmap')\n",
    "for i in range(len(data30)):\n",
    "    data_1120.append(data30[i])\n",
    "    event_1120.append('Tap: Ex Augmented Opera')\n",
    "    zone_1120.append('above tables')"
   ]
  },
  {
   "cell_type": "code",
   "execution_count": 58,
   "metadata": {
    "extensions": {
     "jupyter_dashboards": {
      "version": 1,
      "views": {
       "grid_default": {},
       "report_default": {
        "hidden": true
       }
      }
     }
    }
   },
   "outputs": [],
   "source": [
    "query31 = \"\"\"\n",
    "query {\n",
    "  zoneHeatmaps(\n",
    "    zoneIds: [43609],\n",
    "    startTime: \"2019-11-20T18:30:00\",\n",
    "    endTime: \"2019-11-23T22:00:00\",\n",
    "    objClasses: [\"pedestrian\"],\n",
    "  ) {\n",
    "    edges {\n",
    "      node {\n",
    "        objClass \n",
    "        heatmap\n",
    "        time\n",
    "        zoneIds\n",
    "      }\n",
    "    }\n",
    "  }\n",
    "}\n",
    "\"\"\"\n",
    "besides_tables_1120 = requests.post(url, json={'query': query31}, headers = {'Authorization':token})\n",
    "heatmap31 = besides_tables_1120.json()['data']['zoneHeatmaps']['edges']\n",
    "data31 = heatmap31[0].get('node').get('heatmap')\n",
    "for i in range(len(data31)):\n",
    "    data_1120.append(data31[i])\n",
    "    event_1120.append('Tap: Ex Augmented Opera')\n",
    "    zone_1120.append('besides tables')"
   ]
  },
  {
   "cell_type": "code",
   "execution_count": 59,
   "metadata": {
    "extensions": {
     "jupyter_dashboards": {
      "version": 1,
      "views": {
       "grid_default": {},
       "report_default": {
        "hidden": true
       }
      }
     }
    }
   },
   "outputs": [],
   "source": [
    "query32 = \"\"\"\n",
    "query {\n",
    "  zoneHeatmaps(\n",
    "    zoneIds: [43610],\n",
    "    startTime: \"2019-11-20T18:30:00\",\n",
    "    endTime: \"2019-11-23T22:00:00\",\n",
    "    objClasses: [\"pedestrian\"],\n",
    "  ) {\n",
    "    edges {\n",
    "      node {\n",
    "        objClass \n",
    "        heatmap\n",
    "        time\n",
    "        zoneIds\n",
    "      }\n",
    "    }\n",
    "  }\n",
    "}\n",
    "\"\"\"\n",
    "under_tables_1120 = requests.post(url, json={'query': query32}, headers = {'Authorization':token})\n",
    "heatmap32 = under_tables_1120.json()['data']['zoneHeatmaps']['edges']\n",
    "data32 = heatmap32[0].get('node').get('heatmap')\n",
    "for i in range(len(data32)):\n",
    "    data_1120.append(data32[i])\n",
    "    event_1120.append('Tap: Ex Augmented Opera')\n",
    "    zone_1120.append('under tables')"
   ]
  },
  {
   "cell_type": "code",
   "execution_count": 60,
   "metadata": {
    "extensions": {
     "jupyter_dashboards": {
      "version": 1,
      "views": {
       "grid_default": {},
       "report_default": {
        "hidden": true
       }
      }
     }
    }
   },
   "outputs": [],
   "source": [
    "query33 = \"\"\"\n",
    "query {\n",
    "  zoneHeatmaps(\n",
    "    zoneIds: [43611],\n",
    "    startTime: \"2019-11-20T18:30:00\",\n",
    "    endTime: \"2019-11-23T22:00:00\",\n",
    "    objClasses: [\"pedestrian\"],\n",
    "  ) {\n",
    "    edges {\n",
    "      node {\n",
    "        objClass \n",
    "        heatmap\n",
    "        time\n",
    "        zoneIds\n",
    "      }\n",
    "    }\n",
    "  }\n",
    "}\n",
    "\"\"\"\n",
    "entrance_1120 = requests.post(url, json={'query': query33}, headers = {'Authorization':token})\n",
    "heatmap33 = entrance_1120.json()['data']['zoneHeatmaps']['edges']\n",
    "data33 = heatmap33[0].get('node').get('heatmap')\n",
    "for i in range(len(data33)):\n",
    "    data_1120.append(data33[i])\n",
    "    event_1120.append('Tap: Ex Augmented Opera')\n",
    "    zone_1120.append('entrance')"
   ]
  },
  {
   "cell_type": "code",
   "execution_count": 61,
   "metadata": {
    "extensions": {
     "jupyter_dashboards": {
      "version": 1,
      "views": {
       "grid_default": {},
       "report_default": {
        "hidden": true
       }
      }
     }
    }
   },
   "outputs": [],
   "source": [
    "query34 = \"\"\"\n",
    "query {\n",
    "  zoneHeatmaps(\n",
    "    zoneIds: [43612],\n",
    "    startTime: \"2019-11-20T18:30:00\",\n",
    "    endTime: \"2019-11-23T22:00:00\",\n",
    "    objClasses: [\"pedestrian\"],\n",
    "  ) {\n",
    "    edges {\n",
    "      node {\n",
    "        objClass \n",
    "        heatmap\n",
    "        time\n",
    "        zoneIds\n",
    "      }\n",
    "    }\n",
    "  }\n",
    "}\n",
    "\"\"\"\n",
    "sidewalk1_1120 = requests.post(url, json={'query': query34}, headers = {'Authorization':token})\n",
    "heatmap34 = sidewalk1_1120.json()['data']['zoneHeatmaps']['edges']\n",
    "data34 = heatmap34[0].get('node').get('heatmap')\n",
    "for i in range(len(data34)):\n",
    "    data_1120.append(data34[i])\n",
    "    event_1120.append('Tap: Ex Augmented Opera')\n",
    "    zone_1120.append('sidewalk1')"
   ]
  },
  {
   "cell_type": "code",
   "execution_count": 62,
   "metadata": {
    "extensions": {
     "jupyter_dashboards": {
      "version": 1,
      "views": {
       "grid_default": {},
       "report_default": {
        "hidden": true
       }
      }
     }
    }
   },
   "outputs": [],
   "source": [
    "query35 = \"\"\"\n",
    "query {\n",
    "  zoneHeatmaps(\n",
    "    zoneIds: [43613],\n",
    "    startTime: \"2019-11-20T18:30:00\",\n",
    "    endTime: \"2019-11-23T22:00:00\",\n",
    "    objClasses: [\"pedestrian\"],\n",
    "  ) {\n",
    "    edges {\n",
    "      node {\n",
    "        objClass \n",
    "        heatmap\n",
    "        time\n",
    "        zoneIds\n",
    "      }\n",
    "    }\n",
    "  }\n",
    "}\n",
    "\"\"\"\n",
    "sidewalk2_1120 = requests.post(url, json={'query': query35}, headers = {'Authorization':token})\n",
    "heatmap35 = sidewalk2_1120.json()['data']['zoneHeatmaps']['edges']\n",
    "data35 = heatmap35[0].get('node').get('heatmap')\n",
    "for i in range(len(data35)):\n",
    "    data_1120.append(data35[i])\n",
    "    event_1120.append('Tap: Ex Augmented Opera')\n",
    "    zone_1120.append('sidewalk2')"
   ]
  },
  {
   "cell_type": "code",
   "execution_count": 63,
   "metadata": {
    "extensions": {
     "jupyter_dashboards": {
      "version": 1,
      "views": {
       "grid_default": {},
       "report_default": {
        "hidden": true
       }
      }
     }
    }
   },
   "outputs": [],
   "source": [
    "# Store the streetscape heatmap information of Ex Augmented Opera in the dataframe \n",
    "heatmap_1120_list = {'heatmap': data_1120, 'event': event_1120, 'zone': zone_1120}\n",
    "heatmap_1120_df = pd.DataFrame.from_dict(heatmap_1120_list) "
   ]
  },
  {
   "cell_type": "code",
   "execution_count": 64,
   "metadata": {
    "extensions": {
     "jupyter_dashboards": {
      "version": 1,
      "views": {
       "grid_default": {},
       "report_default": {
        "hidden": true
       }
      }
     }
    }
   },
   "outputs": [],
   "source": [
    "# create a dataframe containing heatmap information by zones of streetscape sensor\n",
    "streetscape_heatmap_df = pd.concat([heatmap_302_df, \n",
    "                                    heatmap_629_df, \n",
    "                                    heatmap_815_df, \n",
    "                                    heatmap_926_df, \n",
    "                                    heatmap_1120_df])"
   ]
  },
  {
   "cell_type": "code",
   "execution_count": 65,
   "metadata": {
    "extensions": {
     "jupyter_dashboards": {
      "version": 1,
      "views": {
       "grid_default": {},
       "report_default": {
        "hidden": true
       }
      }
     }
    }
   },
   "outputs": [],
   "source": [
    "data_outside_302 = []\n",
    "event_outside_302 = []\n",
    "zone_outside_302 = []\n",
    "\n",
    "# query 36-40 are the outside heatmap information of each zone for Open Sidewalk #4\n",
    "query36 = \"\"\"\n",
    "query {\n",
    "  zoneHeatmaps(\n",
    "    zoneIds: [44646],\n",
    "    startTime: \"2019-03-02T15:00:00\",\n",
    "    endTime: \"2019-03-02T19:00:00\",\n",
    "    objClasses: [\"pedestrian\"],\n",
    "  ) {\n",
    "    edges {\n",
    "      node {\n",
    "        objClass \n",
    "        heatmap\n",
    "        time\n",
    "        zoneIds\n",
    "      }\n",
    "    }\n",
    "  }\n",
    "}\n",
    "\"\"\"\n",
    "outside_empty_302 = requests.post(url, json={'query': query36}, headers = {'Authorization':token})\n",
    "heatmap36 = outside_empty_302.json()['data']['zoneHeatmaps']['edges']\n",
    "data36 = heatmap36[0].get('node').get('heatmap')\n",
    "for i in range(len(data36)):\n",
    "    data_outside_302.append(data36[i])\n",
    "    event_outside_302.append('Open Sidewalk #4')\n",
    "    zone_outside_302.append('empty')\n",
    "\n",
    "query37 = \"\"\"\n",
    "query {\n",
    "  zoneHeatmaps(\n",
    "    zoneIds: [44647],\n",
    "    startTime: \"2019-03-02T15:00:00\",\n",
    "    endTime: \"2019-03-02T19:00:00\",\n",
    "    objClasses: [\"pedestrian\"],\n",
    "  ) {\n",
    "    edges {\n",
    "      node {\n",
    "        objClass \n",
    "        heatmap\n",
    "        time\n",
    "        zoneIds\n",
    "      }\n",
    "    }\n",
    "  }\n",
    "}\n",
    "\"\"\"\n",
    "outside_tables_302 = requests.post(url, json={'query': query37}, headers = {'Authorization':token})\n",
    "heatmap37 = outside_tables_302.json()['data']['zoneHeatmaps']['edges']\n",
    "data37 = heatmap37[0].get('node').get('heatmap')\n",
    "for i in range(len(data37)):\n",
    "    data_outside_302.append(data37[i])\n",
    "    event_outside_302.append('Open Sidewalk #4')\n",
    "    zone_outside_302.append('tables')\n",
    "\n",
    "query38 = \"\"\"\n",
    "query {\n",
    "  zoneHeatmaps(\n",
    "    zoneIds: [44648],\n",
    "    startTime: \"2019-03-02T15:00:00\",\n",
    "    endTime: \"2019-03-02T19:00:00\",\n",
    "    objClasses: [\"pedestrian\"],\n",
    "  ) {\n",
    "    edges {\n",
    "      node {\n",
    "        objClass \n",
    "        heatmap\n",
    "        time\n",
    "        zoneIds\n",
    "      }\n",
    "    }\n",
    "  }\n",
    "}\n",
    "\"\"\"\n",
    "outside_chair_302 = requests.post(url, json={'query': query38}, headers = {'Authorization':token})\n",
    "heatmap38 = outside_chair_302.json()['data']['zoneHeatmaps']['edges']\n",
    "data38 = heatmap38[0].get('node').get('heatmap')\n",
    "for i in range(len(data38)):\n",
    "    data_outside_302.append(data38[i])\n",
    "    event_outside_302.append('Open Sidewalk #4')\n",
    "    zone_outside_302.append('chair')\n",
    "    \n",
    "query39 = \"\"\"\n",
    "query {\n",
    "  zoneHeatmaps(\n",
    "    zoneIds: [44649],\n",
    "    startTime: \"2019-03-02T15:00:00\",\n",
    "    endTime: \"2019-03-02T19:00:00\",\n",
    "    objClasses: [\"pedestrian\"],\n",
    "  ) {\n",
    "    edges {\n",
    "      node {\n",
    "        objClass \n",
    "        heatmap\n",
    "        time\n",
    "        zoneIds\n",
    "      }\n",
    "    }\n",
    "  }\n",
    "}\n",
    "\"\"\"\n",
    "outside_grass_302 = requests.post(url, json={'query': query39}, headers = {'Authorization':token})\n",
    "heatmap39 = outside_grass_302.json()['data']['zoneHeatmaps']['edges']\n",
    "data39 = heatmap39[0].get('node').get('heatmap')\n",
    "for i in range(len(data39)):\n",
    "    data_outside_302.append(data39[i])\n",
    "    event_outside_302.append('Open Sidewalk #4')\n",
    "    zone_outside_302.append('grass')\n",
    "    \n",
    "query40 = \"\"\"\n",
    "query {\n",
    "  zoneHeatmaps(\n",
    "    zoneIds: [44650],\n",
    "    startTime: \"2019-03-02T15:00:00\",\n",
    "    endTime: \"2019-03-02T19:00:00\",\n",
    "    objClasses: [\"pedestrian\"],\n",
    "  ) {\n",
    "    edges {\n",
    "      node {\n",
    "        objClass \n",
    "        heatmap\n",
    "        time\n",
    "        zoneIds\n",
    "      }\n",
    "    }\n",
    "  }\n",
    "}\n",
    "\"\"\"\n",
    "outside_left_302 = requests.post(url, json={'query': query40}, headers = {'Authorization':token})\n",
    "heatmap40 = outside_left_302.json()['data']['zoneHeatmaps']['edges']\n",
    "data40 = heatmap40[0].get('node').get('heatmap')\n",
    "for i in range(len(data40)):\n",
    "    data_outside_302.append(data40[i])\n",
    "    event_outside_302.append('Open Sidewalk #4')\n",
    "    zone_outside_302.append('left')\n",
    "\n",
    "# Store the outside heatmap information of Open Sidewalk #4 in the dataframe \n",
    "heatmap_outside_302_list = {'heatmap': data_outside_302, 'event': event_outside_302, 'zone': zone_outside_302}\n",
    "heatmap_outside_302_df = pd.DataFrame.from_dict(heatmap_outside_302_list)  \n",
    "\n"
   ]
  },
  {
   "cell_type": "code",
   "execution_count": 66,
   "metadata": {
    "extensions": {
     "jupyter_dashboards": {
      "version": 1,
      "views": {
       "grid_default": {},
       "report_default": {
        "hidden": true
       }
      }
     }
    }
   },
   "outputs": [],
   "source": [
    "data_outside_629 = []\n",
    "event_outside_629 = []\n",
    "zone_outside_629 = []\n",
    "\n",
    "# query 41-45 are the outside heatmap information of each zone for Sidewalk Summer Open House\n",
    "query41 = \"\"\"\n",
    "query {\n",
    "  zoneHeatmaps(\n",
    "    zoneIds: [44646],\n",
    "    startTime: \"2019-06-29T12:00:00\",\n",
    "    endTime: \"2019-06-29T18:00:00\",\n",
    "    objClasses: [\"pedestrian\"],\n",
    "  ) {\n",
    "    edges {\n",
    "      node {\n",
    "        objClass \n",
    "        heatmap\n",
    "        time\n",
    "        zoneIds\n",
    "      }\n",
    "    }\n",
    "  }\n",
    "}\n",
    "\"\"\"\n",
    "outside_empty_629 = requests.post(url, json={'query': query41}, headers = {'Authorization':token})\n",
    "heatmap41 = outside_empty_629.json()['data']['zoneHeatmaps']['edges']\n",
    "data41 = heatmap41[0].get('node').get('heatmap')\n",
    "for i in range(len(data41)):\n",
    "    data_outside_629.append(data41[i])\n",
    "    event_outside_629.append('Sidewalk Summer Open House')\n",
    "    zone_outside_629.append('empty')\n",
    "\n",
    "query42 = \"\"\"\n",
    "query {\n",
    "  zoneHeatmaps(\n",
    "    zoneIds: [44647],\n",
    "    startTime: \"2019-06-29T12:00:00\",\n",
    "    endTime: \"2019-06-29T18:00:00\",\n",
    "    objClasses: [\"pedestrian\"],\n",
    "  ) {\n",
    "    edges {\n",
    "      node {\n",
    "        objClass \n",
    "        heatmap\n",
    "        time\n",
    "        zoneIds\n",
    "      }\n",
    "    }\n",
    "  }\n",
    "}\n",
    "\"\"\"\n",
    "outside_tables_629 = requests.post(url, json={'query': query42}, headers = {'Authorization':token})\n",
    "heatmap42 = outside_tables_629.json()['data']['zoneHeatmaps']['edges']\n",
    "data42 = heatmap42[0].get('node').get('heatmap')\n",
    "for i in range(len(data42)):\n",
    "    data_outside_629.append(data42[i])\n",
    "    event_outside_629.append('Sidewalk Summer Open House')\n",
    "    zone_outside_629.append('tables')\n",
    "\n",
    "query43 = \"\"\"\n",
    "query {\n",
    "  zoneHeatmaps(\n",
    "    zoneIds: [44648],\n",
    "    startTime: \"2019-06-29T12:00:00\",\n",
    "    endTime: \"2019-06-29T18:00:00\",\n",
    "    objClasses: [\"pedestrian\"],\n",
    "  ) {\n",
    "    edges {\n",
    "      node {\n",
    "        objClass \n",
    "        heatmap\n",
    "        time\n",
    "        zoneIds\n",
    "      }\n",
    "    }\n",
    "  }\n",
    "}\n",
    "\"\"\"\n",
    "outside_chair_629 = requests.post(url, json={'query': query43}, headers = {'Authorization':token})\n",
    "heatmap43 = outside_chair_629.json()['data']['zoneHeatmaps']['edges']\n",
    "data43 = heatmap43[0].get('node').get('heatmap')\n",
    "for i in range(len(data43)):\n",
    "    data_outside_629.append(data43[i])\n",
    "    event_outside_629.append('Sidewalk Summer Open House')\n",
    "    zone_outside_629.append('chair')\n",
    "    \n",
    "query44 = \"\"\"\n",
    "query {\n",
    "  zoneHeatmaps(\n",
    "    zoneIds: [44649],\n",
    "    startTime: \"2019-06-29T12:00:00\",\n",
    "    endTime: \"2019-06-29T18:00:00\",\n",
    "    objClasses: [\"pedestrian\"],\n",
    "  ) {\n",
    "    edges {\n",
    "      node {\n",
    "        objClass \n",
    "        heatmap\n",
    "        time\n",
    "        zoneIds\n",
    "      }\n",
    "    }\n",
    "  }\n",
    "}\n",
    "\"\"\"\n",
    "outside_grass_629 = requests.post(url, json={'query': query44}, headers = {'Authorization':token})\n",
    "heatmap44 = outside_grass_629.json()['data']['zoneHeatmaps']['edges']\n",
    "data44 = heatmap44[0].get('node').get('heatmap')\n",
    "for i in range(len(data44)):\n",
    "    data_outside_629.append(data44[i])\n",
    "    event_outside_629.append('Sidewalk Summer Open House')\n",
    "    zone_outside_629.append('grass')\n",
    "    \n",
    "query45 = \"\"\"\n",
    "query {\n",
    "  zoneHeatmaps(\n",
    "    zoneIds: [44650],\n",
    "    startTime: \"2019-06-29T12:00:00\",\n",
    "    endTime: \"2019-06-29T18:00:00\",\n",
    "    objClasses: [\"pedestrian\"],\n",
    "  ) {\n",
    "    edges {\n",
    "      node {\n",
    "        objClass \n",
    "        heatmap\n",
    "        time\n",
    "        zoneIds\n",
    "      }\n",
    "    }\n",
    "  }\n",
    "}\n",
    "\"\"\"\n",
    "outside_left_629 = requests.post(url, json={'query': query45}, headers = {'Authorization':token})\n",
    "heatmap45 = outside_left_629.json()['data']['zoneHeatmaps']['edges']\n",
    "data45 = heatmap45[0].get('node').get('heatmap')\n",
    "for i in range(len(data45)):\n",
    "    data_outside_629.append(data45[i])\n",
    "    event_outside_629.append('Sidewalk Summer Open House')\n",
    "    zone_outside_629.append('left')\n",
    "\n",
    "# Store the outside heatmap information of Sidewalk Summer Open House in the dataframe \n",
    "heatmap_outside_629_list = {'heatmap': data_outside_629, 'event': event_outside_629, 'zone': zone_outside_629}\n",
    "heatmap_outside_629_df = pd.DataFrame.from_dict(heatmap_outside_629_list)  "
   ]
  },
  {
   "cell_type": "code",
   "execution_count": 67,
   "metadata": {
    "extensions": {
     "jupyter_dashboards": {
      "version": 1,
      "views": {
       "grid_default": {},
       "report_default": {
        "hidden": true
       }
      }
     }
    }
   },
   "outputs": [],
   "source": [
    "data_outside_815 = []\n",
    "event_outside_815 = []\n",
    "zone_outside_815 = []\n",
    "\n",
    "# query 46-50 are the outside heatmap information of each zone for City Moments\n",
    "query46 = \"\"\"\n",
    "query {\n",
    "  zoneHeatmaps(\n",
    "    zoneIds: [44646],\n",
    "    startTime: \"2019-08-15T19:00:00\",\n",
    "    endTime: \"2019-08-16T02:00:00\",\n",
    "    objClasses: [\"pedestrian\"],\n",
    "  ) {\n",
    "    edges {\n",
    "      node {\n",
    "        objClass \n",
    "        heatmap\n",
    "        time\n",
    "        zoneIds\n",
    "      }\n",
    "    }\n",
    "  }\n",
    "}\n",
    "\"\"\"\n",
    "outside_empty_815 = requests.post(url, json={'query': query46}, headers = {'Authorization':token})\n",
    "heatmap46 = outside_empty_815.json()['data']['zoneHeatmaps']['edges']\n",
    "data46 = heatmap46[0].get('node').get('heatmap')\n",
    "for i in range(len(data46)):\n",
    "    data_outside_815.append(data46[i])\n",
    "    event_outside_815.append('City Moments: An event celebrating art and urban life')\n",
    "    zone_outside_815.append('empty')\n",
    "\n",
    "query47 = \"\"\"\n",
    "query {\n",
    "  zoneHeatmaps(\n",
    "    zoneIds: [44647],\n",
    "    startTime: \"2019-08-15T19:00:00\",\n",
    "    endTime: \"2019-08-16T02:00:00\",\n",
    "    objClasses: [\"pedestrian\"],\n",
    "  ) {\n",
    "    edges {\n",
    "      node {\n",
    "        objClass \n",
    "        heatmap\n",
    "        time\n",
    "        zoneIds\n",
    "      }\n",
    "    }\n",
    "  }\n",
    "}\n",
    "\"\"\"\n",
    "outside_tables_815 = requests.post(url, json={'query': query47}, headers = {'Authorization':token})\n",
    "heatmap47 = outside_tables_815.json()['data']['zoneHeatmaps']['edges']\n",
    "data47 = heatmap47[0].get('node').get('heatmap')\n",
    "for i in range(len(data47)):\n",
    "    data_outside_815.append(data47[i])\n",
    "    event_outside_815.append('City Moments: An event celebrating art and urban life')\n",
    "    zone_outside_815.append('tables')\n",
    "\n",
    "query48 = \"\"\"\n",
    "query {\n",
    "  zoneHeatmaps(\n",
    "    zoneIds: [44648],\n",
    "    startTime: \"2019-08-15T19:00:00\",\n",
    "    endTime: \"2019-08-16T02:00:00\",\n",
    "    objClasses: [\"pedestrian\"],\n",
    "  ) {\n",
    "    edges {\n",
    "      node {\n",
    "        objClass \n",
    "        heatmap\n",
    "        time\n",
    "        zoneIds\n",
    "      }\n",
    "    }\n",
    "  }\n",
    "}\n",
    "\"\"\"\n",
    "outside_chair_815 = requests.post(url, json={'query': query48}, headers = {'Authorization':token})\n",
    "heatmap48 = outside_chair_815.json()['data']['zoneHeatmaps']['edges']\n",
    "data48 = heatmap48[0].get('node').get('heatmap')\n",
    "for i in range(len(data48)):\n",
    "    data_outside_815.append(data48[i])\n",
    "    event_outside_815.append('City Moments: An event celebrating art and urban life')\n",
    "    zone_outside_815.append('chair')\n",
    "    \n",
    "query49 = \"\"\"\n",
    "query {\n",
    "  zoneHeatmaps(\n",
    "    zoneIds: [44649],\n",
    "    startTime: \"2019-08-15T19:00:00\",\n",
    "    endTime: \"2019-08-16T02:00:00\",\n",
    "    objClasses: [\"pedestrian\"],\n",
    "  ) {\n",
    "    edges {\n",
    "      node {\n",
    "        objClass \n",
    "        heatmap\n",
    "        time\n",
    "        zoneIds\n",
    "      }\n",
    "    }\n",
    "  }\n",
    "}\n",
    "\"\"\"\n",
    "outside_grass_815 = requests.post(url, json={'query': query49}, headers = {'Authorization':token})\n",
    "heatmap49 = outside_grass_815.json()['data']['zoneHeatmaps']['edges']\n",
    "data49 = heatmap49[0].get('node').get('heatmap')\n",
    "for i in range(len(data49)):\n",
    "    data_outside_815.append(data49[i])\n",
    "    event_outside_815.append('City Moments: An event celebrating art and urban life')\n",
    "    zone_outside_815.append('grass')\n",
    "    \n",
    "query50 = \"\"\"\n",
    "query {\n",
    "  zoneHeatmaps(\n",
    "    zoneIds: [44650],\n",
    "    startTime: \"2019-08-15T19:00:00\",\n",
    "    endTime: \"2019-08-16T02:00:00\",\n",
    "    objClasses: [\"pedestrian\"],\n",
    "  ) {\n",
    "    edges {\n",
    "      node {\n",
    "        objClass \n",
    "        heatmap\n",
    "        time\n",
    "        zoneIds\n",
    "      }\n",
    "    }\n",
    "  }\n",
    "}\n",
    "\"\"\"\n",
    "outside_left_815 = requests.post(url, json={'query': query50}, headers = {'Authorization':token})\n",
    "heatmap50 = outside_left_815.json()['data']['zoneHeatmaps']['edges']\n",
    "data50 = heatmap50[0].get('node').get('heatmap')\n",
    "for i in range(len(data50)):\n",
    "    data_outside_815.append(data50[i])\n",
    "    event_outside_815.append('City Moments: An event celebrating art and urban life')\n",
    "    zone_outside_815.append('left')\n",
    "    \n",
    "# Store the outside heatmap information of City Moments in the dataframe \n",
    "heatmap_outside_815_list = {'heatmap': data_outside_815, 'event': event_outside_815, 'zone': zone_outside_815}\n",
    "heatmap_outside_815_df = pd.DataFrame.from_dict(heatmap_outside_815_list)  "
   ]
  },
  {
   "cell_type": "code",
   "execution_count": 68,
   "metadata": {
    "extensions": {
     "jupyter_dashboards": {
      "version": 1,
      "views": {
       "grid_default": {},
       "report_default": {
        "hidden": true
       }
      }
     }
    }
   },
   "outputs": [],
   "source": [
    "data_outside_926 = []\n",
    "event_outside_926 = []\n",
    "zone_outside_926 = []\n",
    "\n",
    "# query 51-55 are the outside heatmap information of each zone for Startup Open House\n",
    "query51 = \"\"\"\n",
    "query {\n",
    "  zoneHeatmaps(\n",
    "    zoneIds: [44646],\n",
    "    startTime: \"2019-09-26T16:00:00\",\n",
    "    endTime: \"2019-09-26T20:00:00\",\n",
    "    objClasses: [\"pedestrian\"],\n",
    "  ) {\n",
    "    edges {\n",
    "      node {\n",
    "        objClass \n",
    "        heatmap\n",
    "        time\n",
    "        zoneIds\n",
    "      }\n",
    "    }\n",
    "  }\n",
    "}\n",
    "\"\"\"\n",
    "outside_empty_926 = requests.post(url, json={'query': query51}, headers = {'Authorization':token})\n",
    "heatmap51 = outside_empty_926.json()['data']['zoneHeatmaps']['edges']\n",
    "data51 = heatmap51[0].get('node').get('heatmap')\n",
    "for i in range(len(data51)):\n",
    "    data_outside_926.append(data51[i])\n",
    "    event_outside_926.append('Sidewalk Labs opens its door for Startup Open House')\n",
    "    zone_outside_926.append('empty')\n",
    "\n",
    "query52 = \"\"\"\n",
    "query {\n",
    "  zoneHeatmaps(\n",
    "    zoneIds: [44647],\n",
    "    startTime: \"2019-09-26T16:00:00\",\n",
    "    endTime: \"2019-09-26T20:00:00\",\n",
    "    objClasses: [\"pedestrian\"],\n",
    "  ) {\n",
    "    edges {\n",
    "      node {\n",
    "        objClass \n",
    "        heatmap\n",
    "        time\n",
    "        zoneIds\n",
    "      }\n",
    "    }\n",
    "  }\n",
    "}\n",
    "\"\"\"\n",
    "outside_tables_926 = requests.post(url, json={'query': query52}, headers = {'Authorization':token})\n",
    "heatmap52 = outside_tables_926.json()['data']['zoneHeatmaps']['edges']\n",
    "data52 = heatmap52[0].get('node').get('heatmap')\n",
    "for i in range(len(data52)):\n",
    "    data_outside_926.append(data52[i])\n",
    "    event_outside_926.append('Sidewalk Labs opens its door for Startup Open House')\n",
    "    zone_outside_926.append('tables')\n",
    "\n",
    "query53 = \"\"\"\n",
    "query {\n",
    "  zoneHeatmaps(\n",
    "    zoneIds: [44648],\n",
    "    startTime: \"2019-09-26T16:00:00\",\n",
    "    endTime: \"2019-09-26T20:00:00\",\n",
    "    objClasses: [\"pedestrian\"],\n",
    "  ) {\n",
    "    edges {\n",
    "      node {\n",
    "        objClass \n",
    "        heatmap\n",
    "        time\n",
    "        zoneIds\n",
    "      }\n",
    "    }\n",
    "  }\n",
    "}\n",
    "\"\"\"\n",
    "outside_chair_926 = requests.post(url, json={'query': query53}, headers = {'Authorization':token})\n",
    "heatmap53 = outside_chair_926.json()['data']['zoneHeatmaps']['edges']\n",
    "data53 = heatmap53[0].get('node').get('heatmap')\n",
    "for i in range(len(data53)):\n",
    "    data_outside_926.append(data53[i])\n",
    "    event_outside_926.append('Sidewalk Labs opens its door for Startup Open House')\n",
    "    zone_outside_926.append('chair')\n",
    "    \n",
    "query54 = \"\"\"\n",
    "query {\n",
    "  zoneHeatmaps(\n",
    "    zoneIds: [44649],\n",
    "    startTime: \"2019-09-26T16:00:00\",\n",
    "    endTime: \"2019-09-26T20:00:00\",\n",
    "    objClasses: [\"pedestrian\"],\n",
    "  ) {\n",
    "    edges {\n",
    "      node {\n",
    "        objClass \n",
    "        heatmap\n",
    "        time\n",
    "        zoneIds\n",
    "      }\n",
    "    }\n",
    "  }\n",
    "}\n",
    "\"\"\"\n",
    "outside_grass_926 = requests.post(url, json={'query': query54}, headers = {'Authorization':token})\n",
    "heatmap54 = outside_grass_926.json()['data']['zoneHeatmaps']['edges']\n",
    "data54 = heatmap54[0].get('node').get('heatmap')\n",
    "for i in range(len(data54)):\n",
    "    data_outside_926.append(data54[i])\n",
    "    event_outside_926.append('Sidewalk Labs opens its door for Startup Open House')\n",
    "    zone_outside_926.append('grass')\n",
    "    \n",
    "query55 = \"\"\"\n",
    "query {\n",
    "  zoneHeatmaps(\n",
    "    zoneIds: [44650],\n",
    "    startTime: \"2019-09-26T16:00:00\",\n",
    "    endTime: \"2019-09-26T20:00:00\",\n",
    "    objClasses: [\"pedestrian\"],\n",
    "  ) {\n",
    "    edges {\n",
    "      node {\n",
    "        objClass \n",
    "        heatmap\n",
    "        time\n",
    "        zoneIds\n",
    "      }\n",
    "    }\n",
    "  }\n",
    "}\n",
    "\"\"\"\n",
    "outside_left_926 = requests.post(url, json={'query': query55}, headers = {'Authorization':token})\n",
    "heatmap55 = outside_left_926.json()['data']['zoneHeatmaps']['edges']\n",
    "data55 = heatmap55[0].get('node').get('heatmap')\n",
    "for i in range(len(data55)):\n",
    "    data_outside_926.append(data55[i])\n",
    "    event_outside_926.append('Sidewalk Labs opens its door for Startup Open House')\n",
    "    zone_outside_926.append('left')\n",
    "    \n",
    "# Store the outside heatmap information of Startup Open House in the dataframe \n",
    "heatmap_outside_926_list = {'heatmap': data_outside_926, 'event': event_outside_926, 'zone': zone_outside_926}\n",
    "heatmap_outside_926_df = pd.DataFrame.from_dict(heatmap_outside_926_list)  \n",
    "\n"
   ]
  },
  {
   "cell_type": "code",
   "execution_count": 69,
   "metadata": {
    "extensions": {
     "jupyter_dashboards": {
      "version": 1,
      "views": {
       "grid_default": {},
       "report_default": {
        "hidden": true
       }
      }
     }
    }
   },
   "outputs": [],
   "source": [
    "data_outside_1120 = []\n",
    "event_outside_1120 = []\n",
    "zone_outside_1120 = []\n",
    "\n",
    "# query 56-60 are the outside heatmap information of each zone for Ex Augmented Opera\n",
    "query56 = \"\"\"\n",
    "query {\n",
    "  zoneHeatmaps(\n",
    "    zoneIds: [44646],\n",
    "    startTime: \"2019-11-20T18:30:00\",\n",
    "    endTime: \"2019-11-23T22:00:00\",\n",
    "    objClasses: [\"pedestrian\"],\n",
    "  ) {\n",
    "    edges {\n",
    "      node {\n",
    "        objClass \n",
    "        heatmap\n",
    "        time\n",
    "        zoneIds\n",
    "      }\n",
    "    }\n",
    "  }\n",
    "}\n",
    "\"\"\"\n",
    "outside_empty_1120 = requests.post(url, json={'query': query56}, headers = {'Authorization':token})\n",
    "heatmap56 = outside_empty_1120.json()['data']['zoneHeatmaps']['edges']\n",
    "data56 = heatmap56[0].get('node').get('heatmap')\n",
    "for i in range(len(data56)):\n",
    "    data_outside_1120.append(data56[i])\n",
    "    event_outside_1120.append('Tap: Ex Augmented Opera')\n",
    "    zone_outside_1120.append('empty')\n",
    "\n",
    "query57 = \"\"\"\n",
    "query {\n",
    "  zoneHeatmaps(\n",
    "    zoneIds: [44647],\n",
    "    startTime: \"2019-11-20T18:30:00\",\n",
    "    endTime: \"2019-11-23T22:00:00\",\n",
    "    objClasses: [\"pedestrian\"],\n",
    "  ) {\n",
    "    edges {\n",
    "      node {\n",
    "        objClass \n",
    "        heatmap\n",
    "        time\n",
    "        zoneIds\n",
    "      }\n",
    "    }\n",
    "  }\n",
    "}\n",
    "\"\"\"\n",
    "outside_tables_1120 = requests.post(url, json={'query': query57}, headers = {'Authorization':token})\n",
    "heatmap57 = outside_tables_1120.json()['data']['zoneHeatmaps']['edges']\n",
    "data57 = heatmap57[0].get('node').get('heatmap')\n",
    "for i in range(len(data57)):\n",
    "    data_outside_1120.append(data57[i])\n",
    "    event_outside_1120.append('Tap: Ex Augmented Opera')\n",
    "    zone_outside_1120.append('tables')\n",
    "\n",
    "query58 = \"\"\"\n",
    "query {\n",
    "  zoneHeatmaps(\n",
    "    zoneIds: [44648],\n",
    "    startTime: \"2019-11-20T18:30:00\",\n",
    "    endTime: \"2019-11-23T22:00:00\",\n",
    "    objClasses: [\"pedestrian\"],\n",
    "  ) {\n",
    "    edges {\n",
    "      node {\n",
    "        objClass \n",
    "        heatmap\n",
    "        time\n",
    "        zoneIds\n",
    "      }\n",
    "    }\n",
    "  }\n",
    "}\n",
    "\"\"\"\n",
    "outside_chair_1120 = requests.post(url, json={'query': query58}, headers = {'Authorization':token})\n",
    "heatmap58 = outside_chair_1120.json()['data']['zoneHeatmaps']['edges']\n",
    "data58 = heatmap58[0].get('node').get('heatmap')\n",
    "for i in range(len(data58)):\n",
    "    data_outside_1120.append(data58[i])\n",
    "    event_outside_1120.append('Tap: Ex Augmented Opera')\n",
    "    zone_outside_1120.append('chair')\n",
    "    \n",
    "query59 = \"\"\"\n",
    "query {\n",
    "  zoneHeatmaps(\n",
    "    zoneIds: [44649],\n",
    "    startTime: \"2019-11-20T18:30:00\",\n",
    "    endTime: \"2019-11-23T22:00:00\",\n",
    "    objClasses: [\"pedestrian\"],\n",
    "  ) {\n",
    "    edges {\n",
    "      node {\n",
    "        objClass \n",
    "        heatmap\n",
    "        time\n",
    "        zoneIds\n",
    "      }\n",
    "    }\n",
    "  }\n",
    "}\n",
    "\"\"\"\n",
    "outside_grass_1120 = requests.post(url, json={'query': query59}, headers = {'Authorization':token})\n",
    "heatmap59 = outside_grass_1120.json()['data']['zoneHeatmaps']['edges']\n",
    "data59 = heatmap59[0].get('node').get('heatmap')\n",
    "for i in range(len(data59)):\n",
    "    data_outside_1120.append(data59[i])\n",
    "    event_outside_1120.append('Tap: Ex Augmented Opera')\n",
    "    zone_outside_1120.append('grass')\n",
    "    \n",
    "query60 = \"\"\"\n",
    "query {\n",
    "  zoneHeatmaps(\n",
    "    zoneIds: [44650],\n",
    "    startTime: \"2019-11-20T18:30:00\",\n",
    "    endTime: \"2019-11-23T22:00:00\",\n",
    "    objClasses: [\"pedestrian\"],\n",
    "  ) {\n",
    "    edges {\n",
    "      node {\n",
    "        objClass \n",
    "        heatmap\n",
    "        time\n",
    "        zoneIds\n",
    "      }\n",
    "    }\n",
    "  }\n",
    "}\n",
    "\"\"\"\n",
    "outside_left_1120 = requests.post(url, json={'query': query60}, headers = {'Authorization':token})\n",
    "heatmap60 = outside_left_1120.json()['data']['zoneHeatmaps']['edges']\n",
    "data60 = heatmap60[0].get('node').get('heatmap')\n",
    "for i in range(len(data60)):\n",
    "    data_outside_1120.append(data60[i])\n",
    "    event_outside_1120.append('Tap: Ex Augmented Opera')\n",
    "    zone_outside_1120.append('left')\n",
    "\n",
    "# Store the outside heatmap information of Ex Augmented Opera in the dataframe \n",
    "heatmap_outside_1120_list = {'heatmap': data_outside_1120, 'event': event_outside_1120, 'zone': zone_outside_1120}\n",
    "heatmap_outside_1120_df = pd.DataFrame.from_dict(heatmap_outside_1120_list)  \n",
    "\n"
   ]
  },
  {
   "cell_type": "code",
   "execution_count": 70,
   "metadata": {
    "extensions": {
     "jupyter_dashboards": {
      "version": 1,
      "views": {
       "grid_default": {},
       "report_default": {
        "hidden": true
       }
      }
     }
    }
   },
   "outputs": [],
   "source": [
    "# create a dataframe containing heatmap information by zones of outside sensor\n",
    "outside_heatmap_df = pd.concat([heatmap_outside_302_df, \n",
    "                                heatmap_outside_629_df, \n",
    "                                heatmap_outside_815_df, \n",
    "                                heatmap_outside_926_df, \n",
    "                                heatmap_outside_1120_df])\n",
    "\n",
    "\n"
   ]
  },
  {
   "cell_type": "code",
   "execution_count": 71,
   "metadata": {
    "extensions": {
     "jupyter_dashboards": {
      "version": 1,
      "views": {
       "grid_default": {},
       "report_default": {
        "hidden": true
       }
      }
     }
    }
   },
   "outputs": [],
   "source": [
    "data_raincoat_302 = []\n",
    "event_raincoat_302 = []\n",
    "zone_raincoat_302 = []\n",
    "\n",
    "# query 61-64 are the raincoat heatmap information of each zone for Open Sidewalk #4\n",
    "query61 = \"\"\"\n",
    "query {\n",
    "  zoneHeatmaps(\n",
    "    zoneIds: [44652],\n",
    "    startTime: \"2019-03-02T15:00:00\",\n",
    "    endTime: \"2019-03-02T19:00:00\",\n",
    "    objClasses: [\"pedestrian\"],\n",
    "  ) {\n",
    "    edges {\n",
    "      node {\n",
    "        objClass \n",
    "        heatmap\n",
    "        time\n",
    "        zoneIds\n",
    "      }\n",
    "    }\n",
    "  }\n",
    "}\n",
    "\"\"\"\n",
    "raincoat_chair_302 = requests.post(url, json={'query': query61}, headers = {'Authorization':token})\n",
    "heatmap61 = raincoat_chair_302.json()['data']['zoneHeatmaps']['edges']\n",
    "data61 = heatmap61[0].get('node').get('heatmap')\n",
    "for i in range(len(data61)):\n",
    "    data_raincoat_302.append(data61[i])\n",
    "    event_raincoat_302.append('Open Sidewalk #4')\n",
    "    zone_raincoat_302.append('chair')\n",
    "\n",
    "query62 = \"\"\"\n",
    "query {\n",
    "  zoneHeatmaps(\n",
    "    zoneIds: [44653],\n",
    "    startTime: \"2019-03-02T15:00:00\",\n",
    "    endTime: \"2019-03-02T19:00:00\",\n",
    "    objClasses: [\"pedestrian\"],\n",
    "  ) {\n",
    "    edges {\n",
    "      node {\n",
    "        objClass \n",
    "        heatmap\n",
    "        time\n",
    "        zoneIds\n",
    "      }\n",
    "    }\n",
    "  }\n",
    "}\n",
    "\"\"\"\n",
    "raincoat_center_302 = requests.post(url, json={'query': query62}, headers = {'Authorization':token})\n",
    "heatmap62 = raincoat_center_302.json()['data']['zoneHeatmaps']['edges']\n",
    "data62 = heatmap62[0].get('node').get('heatmap')\n",
    "for i in range(len(data62)):\n",
    "    data_raincoat_302.append(data62[i])\n",
    "    event_raincoat_302.append('Open Sidewalk #4')\n",
    "    zone_raincoat_302.append('center')\n",
    "\n",
    "query63 = \"\"\"\n",
    "query {\n",
    "  zoneHeatmaps(\n",
    "    zoneIds: [44654],\n",
    "    startTime: \"2019-03-02T15:00:00\",\n",
    "    endTime: \"2019-03-02T19:00:00\",\n",
    "    objClasses: [\"pedestrian\"],\n",
    "  ) {\n",
    "    edges {\n",
    "      node {\n",
    "        objClass \n",
    "        heatmap\n",
    "        time\n",
    "        zoneIds\n",
    "      }\n",
    "    }\n",
    "  }\n",
    "}\n",
    "\"\"\"\n",
    "raincoat_right_302 = requests.post(url, json={'query': query63}, headers = {'Authorization':token})\n",
    "heatmap63 = raincoat_right_302.json()['data']['zoneHeatmaps']['edges']\n",
    "data63 = heatmap63[0].get('node').get('heatmap')\n",
    "for i in range(len(data63)):\n",
    "    data_raincoat_302.append(data63[i])\n",
    "    event_raincoat_302.append('Open Sidewalk #4')\n",
    "    zone_raincoat_302.append('right')\n",
    "    \n",
    "query64 = \"\"\"\n",
    "query {\n",
    "  zoneHeatmaps(\n",
    "    zoneIds: [44655],\n",
    "    startTime: \"2019-03-02T15:00:00\",\n",
    "    endTime: \"2019-03-02T19:00:00\",\n",
    "    objClasses: [\"pedestrian\"],\n",
    "  ) {\n",
    "    edges {\n",
    "      node {\n",
    "        objClass \n",
    "        heatmap\n",
    "        time\n",
    "        zoneIds\n",
    "      }\n",
    "    }\n",
    "  }\n",
    "}\n",
    "\"\"\"\n",
    "raincoat_left_302 = requests.post(url, json={'query': query64}, headers = {'Authorization':token})\n",
    "heatmap64 = raincoat_left_302.json()['data']['zoneHeatmaps']['edges']\n",
    "data64 = heatmap64[0].get('node').get('heatmap')\n",
    "for i in range(len(data64)):\n",
    "    data_raincoat_302.append(data64[i])\n",
    "    event_raincoat_302.append('Open Sidewalk #4')\n",
    "    zone_raincoat_302.append('left')\n",
    "    \n",
    "# Store the raincoat heatmap information of Open Sidewalk #4 in the dataframe \n",
    "heatmap_raincoat_302_list = {'heatmap': data_raincoat_302, 'event': event_raincoat_302, 'zone': zone_raincoat_302}\n",
    "heatmap_raincoat_302_df = pd.DataFrame.from_dict(heatmap_raincoat_302_list)  \n",
    "\n"
   ]
  },
  {
   "cell_type": "code",
   "execution_count": 72,
   "metadata": {
    "extensions": {
     "jupyter_dashboards": {
      "version": 1,
      "views": {
       "grid_default": {},
       "report_default": {
        "hidden": true
       }
      }
     }
    }
   },
   "outputs": [],
   "source": [
    "data_raincoat_629 = []\n",
    "event_raincoat_629 = []\n",
    "zone_raincoat_629 = []\n",
    "\n",
    "# query 65-68 are the raincoat heatmap information of each zone for Sidewalk Summer Open House\n",
    "query65 = \"\"\"\n",
    "query {\n",
    "  zoneHeatmaps(\n",
    "    zoneIds: [44652],\n",
    "    startTime: \"2019-06-29T12:00:00\",\n",
    "    endTime: \"2019-06-29T18:00:00\",\n",
    "    objClasses: [\"pedestrian\"],\n",
    "  ) {\n",
    "    edges {\n",
    "      node {\n",
    "        objClass \n",
    "        heatmap\n",
    "        time\n",
    "        zoneIds\n",
    "      }\n",
    "    }\n",
    "  }\n",
    "}\n",
    "\"\"\"\n",
    "raincoat_chair_629 = requests.post(url, json={'query': query65}, headers = {'Authorization':token})\n",
    "heatmap65 = raincoat_chair_629.json()['data']['zoneHeatmaps']['edges']\n",
    "data65 = heatmap65[0].get('node').get('heatmap')\n",
    "for i in range(len(data65)):\n",
    "    data_raincoat_629.append(data65[i])\n",
    "    event_raincoat_629.append('Sidewalk Summer Open House')\n",
    "    zone_raincoat_629.append('chair')\n",
    "\n",
    "query66 = \"\"\"\n",
    "query {\n",
    "  zoneHeatmaps(\n",
    "    zoneIds: [44653],\n",
    "    startTime: \"2019-06-29T12:00:00\",\n",
    "    endTime: \"2019-06-29T18:00:00\",\n",
    "    objClasses: [\"pedestrian\"],\n",
    "  ) {\n",
    "    edges {\n",
    "      node {\n",
    "        objClass \n",
    "        heatmap\n",
    "        time\n",
    "        zoneIds\n",
    "      }\n",
    "    }\n",
    "  }\n",
    "}\n",
    "\"\"\"\n",
    "raincoat_center_629 = requests.post(url, json={'query': query66}, headers = {'Authorization':token})\n",
    "heatmap66 = raincoat_center_629.json()['data']['zoneHeatmaps']['edges']\n",
    "data66 = heatmap66[0].get('node').get('heatmap')\n",
    "for i in range(len(data66)):\n",
    "    data_raincoat_629.append(data66[i])\n",
    "    event_raincoat_629.append('Sidewalk Summer Open House')\n",
    "    zone_raincoat_629.append('center')\n",
    "\n",
    "query67 = \"\"\"\n",
    "query {\n",
    "  zoneHeatmaps(\n",
    "    zoneIds: [44654],\n",
    "    startTime: \"2019-06-29T12:00:00\",\n",
    "    endTime: \"2019-06-29T18:00:00\",\n",
    "    objClasses: [\"pedestrian\"],\n",
    "  ) {\n",
    "    edges {\n",
    "      node {\n",
    "        objClass \n",
    "        heatmap\n",
    "        time\n",
    "        zoneIds\n",
    "      }\n",
    "    }\n",
    "  }\n",
    "}\n",
    "\"\"\"\n",
    "raincoat_right_629 = requests.post(url, json={'query': query67}, headers = {'Authorization':token})\n",
    "heatmap67 = raincoat_right_629.json()['data']['zoneHeatmaps']['edges']\n",
    "data67 = heatmap67[0].get('node').get('heatmap')\n",
    "for i in range(len(data67)):\n",
    "    data_raincoat_629.append(data67[i])\n",
    "    event_raincoat_629.append('Sidewalk Summer Open House')\n",
    "    zone_raincoat_629.append('right')\n",
    "    \n",
    "query68 = \"\"\"\n",
    "query {\n",
    "  zoneHeatmaps(\n",
    "    zoneIds: [44655],\n",
    "    startTime: \"2019-06-29T12:00:00\",\n",
    "    endTime: \"2019-06-29T18:00:00\",\n",
    "    objClasses: [\"pedestrian\"],\n",
    "  ) {\n",
    "    edges {\n",
    "      node {\n",
    "        objClass \n",
    "        heatmap\n",
    "        time\n",
    "        zoneIds\n",
    "      }\n",
    "    }\n",
    "  }\n",
    "}\n",
    "\"\"\"\n",
    "raincoat_left_629 = requests.post(url, json={'query': query68}, headers = {'Authorization':token})\n",
    "heatmap68 = raincoat_left_629.json()['data']['zoneHeatmaps']['edges']\n",
    "data68 = heatmap68[0].get('node').get('heatmap')\n",
    "for i in range(len(data68)):\n",
    "    data_raincoat_629.append(data68[i])\n",
    "    event_raincoat_629.append('Sidewalk Summer Open House')\n",
    "    zone_raincoat_629.append('left')\n",
    "    \n",
    "# Store the raincoat heatmap information of Sidewalk Summer Open House in the dataframe \n",
    "heatmap_raincoat_629_list = {'heatmap': data_raincoat_629, 'event': event_raincoat_629, 'zone': zone_raincoat_629}\n",
    "heatmap_raincoat_629_df = pd.DataFrame.from_dict(heatmap_raincoat_629_list)  \n",
    "\n"
   ]
  },
  {
   "cell_type": "code",
   "execution_count": 73,
   "metadata": {
    "extensions": {
     "jupyter_dashboards": {
      "version": 1,
      "views": {
       "grid_default": {},
       "report_default": {
        "hidden": true
       }
      }
     }
    }
   },
   "outputs": [],
   "source": [
    "data_raincoat_815 = []\n",
    "event_raincoat_815 = []\n",
    "zone_raincoat_815 = []\n",
    "\n",
    "# query 69-72 are the raincoat heatmap information of each zone for City Moments\n",
    "query69 = \"\"\"\n",
    "query {\n",
    "  zoneHeatmaps(\n",
    "    zoneIds: [44652],\n",
    "    startTime: \"2019-08-15T19:00:00\",\n",
    "    endTime: \"2019-08-16T02:00:00\",\n",
    "    objClasses: [\"pedestrian\"],\n",
    "  ) {\n",
    "    edges {\n",
    "      node {\n",
    "        objClass \n",
    "        heatmap\n",
    "        time\n",
    "        zoneIds\n",
    "      }\n",
    "    }\n",
    "  }\n",
    "}\n",
    "\"\"\"\n",
    "raincoat_chair_815 = requests.post(url, json={'query': query69}, headers = {'Authorization':token})\n",
    "heatmap69 = raincoat_chair_815.json()['data']['zoneHeatmaps']['edges']\n",
    "data69 = heatmap69[0].get('node').get('heatmap')\n",
    "for i in range(len(data69)):\n",
    "    data_raincoat_815.append(data69[i])\n",
    "    event_raincoat_815.append('City Moments: An event celebrating art and urban life')\n",
    "    zone_raincoat_815.append('chair')\n",
    "\n",
    "query70 = \"\"\"\n",
    "query {\n",
    "  zoneHeatmaps(\n",
    "    zoneIds: [44653],\n",
    "    startTime: \"2019-08-15T19:00:00\",\n",
    "    endTime: \"2019-08-16T02:00:00\",\n",
    "    objClasses: [\"pedestrian\"],\n",
    "  ) {\n",
    "    edges {\n",
    "      node {\n",
    "        objClass \n",
    "        heatmap\n",
    "        time\n",
    "        zoneIds\n",
    "      }\n",
    "    }\n",
    "  }\n",
    "}\n",
    "\"\"\"\n",
    "raincoat_center_815 = requests.post(url, json={'query': query70}, headers = {'Authorization':token})\n",
    "heatmap70 = raincoat_center_815.json()['data']['zoneHeatmaps']['edges']\n",
    "data70 = heatmap70[0].get('node').get('heatmap')\n",
    "for i in range(len(data70)):\n",
    "    data_raincoat_815.append(data70[i])\n",
    "    event_raincoat_815.append('City Moments: An event celebrating art and urban life')\n",
    "    zone_raincoat_815.append('center')\n",
    "\n",
    "query71 = \"\"\"\n",
    "query {\n",
    "  zoneHeatmaps(\n",
    "    zoneIds: [44654],\n",
    "    startTime: \"2019-08-15T19:00:00\",\n",
    "    endTime: \"2019-08-16T02:00:00\",\n",
    "    objClasses: [\"pedestrian\"],\n",
    "  ) {\n",
    "    edges {\n",
    "      node {\n",
    "        objClass \n",
    "        heatmap\n",
    "        time\n",
    "        zoneIds\n",
    "      }\n",
    "    }\n",
    "  }\n",
    "}\n",
    "\"\"\"\n",
    "raincoat_right_815 = requests.post(url, json={'query': query71}, headers = {'Authorization':token})\n",
    "heatmap71 = raincoat_right_815.json()['data']['zoneHeatmaps']['edges']\n",
    "data71 = heatmap71[0].get('node').get('heatmap')\n",
    "for i in range(len(data71)):\n",
    "    data_raincoat_815.append(data71[i])\n",
    "    event_raincoat_815.append('City Moments: An event celebrating art and urban life')\n",
    "    zone_raincoat_815.append('right')\n",
    "    \n",
    "query72 = \"\"\"\n",
    "query {\n",
    "  zoneHeatmaps(\n",
    "    zoneIds: [44655],\n",
    "    startTime: \"2019-08-15T19:00:00\",\n",
    "    endTime: \"2019-08-16T02:00:00\",\n",
    "    objClasses: [\"pedestrian\"],\n",
    "  ) {\n",
    "    edges {\n",
    "      node {\n",
    "        objClass \n",
    "        heatmap\n",
    "        time\n",
    "        zoneIds\n",
    "      }\n",
    "    }\n",
    "  }\n",
    "}\n",
    "\"\"\"\n",
    "raincoat_left_815 = requests.post(url, json={'query': query72}, headers = {'Authorization':token})\n",
    "heatmap72 = raincoat_left_815.json()['data']['zoneHeatmaps']['edges']\n",
    "data72 = heatmap72[0].get('node').get('heatmap')\n",
    "for i in range(len(data72)):\n",
    "    data_raincoat_815.append(data72[i])\n",
    "    event_raincoat_815.append('City Moments: An event celebrating art and urban life')\n",
    "    zone_raincoat_815.append('left')\n",
    "    \n",
    "# Store the raincoat heatmap information of City Moments in the dataframe \n",
    "heatmap_raincoat_815_list = {'heatmap': data_raincoat_815, 'event': event_raincoat_815, 'zone': zone_raincoat_815}\n",
    "heatmap_raincoat_815_df = pd.DataFrame.from_dict(heatmap_raincoat_815_list)  \n",
    "\n"
   ]
  },
  {
   "cell_type": "code",
   "execution_count": 74,
   "metadata": {
    "extensions": {
     "jupyter_dashboards": {
      "version": 1,
      "views": {
       "grid_default": {},
       "report_default": {
        "hidden": true
       }
      }
     }
    }
   },
   "outputs": [],
   "source": [
    "data_raincoat_926 = []\n",
    "event_raincoat_926 = []\n",
    "zone_raincoat_926 = []\n",
    "\n",
    "# query 73-76 are the raincoat heatmap information of each zone for Startup Open House\n",
    "query73 = \"\"\"\n",
    "query {\n",
    "  zoneHeatmaps(\n",
    "    zoneIds: [44652],\n",
    "    startTime: \"2019-09-26T16:00:00\",\n",
    "    endTime: \"2019-09-26T20:00:00\",\n",
    "    objClasses: [\"pedestrian\"],\n",
    "  ) {\n",
    "    edges {\n",
    "      node {\n",
    "        objClass \n",
    "        heatmap\n",
    "        time\n",
    "        zoneIds\n",
    "      }\n",
    "    }\n",
    "  }\n",
    "}\n",
    "\"\"\"\n",
    "raincoat_chair_926 = requests.post(url, json={'query': query73}, headers = {'Authorization':token})\n",
    "heatmap73 = raincoat_chair_926.json()['data']['zoneHeatmaps']['edges']\n",
    "data73 = heatmap73[0].get('node').get('heatmap')\n",
    "for i in range(len(data73)):\n",
    "    data_raincoat_926.append(data73[i])\n",
    "    event_raincoat_926.append('Sidewalk Labs opens its door for Startup Open House')\n",
    "    zone_raincoat_926.append('chair')\n",
    "\n",
    "query74 = \"\"\"\n",
    "query {\n",
    "  zoneHeatmaps(\n",
    "    zoneIds: [44653],\n",
    "    startTime: \"2019-09-26T16:00:00\",\n",
    "    endTime: \"2019-09-26T20:00:00\",\n",
    "    objClasses: [\"pedestrian\"],\n",
    "  ) {\n",
    "    edges {\n",
    "      node {\n",
    "        objClass \n",
    "        heatmap\n",
    "        time\n",
    "        zoneIds\n",
    "      }\n",
    "    }\n",
    "  }\n",
    "}\n",
    "\"\"\"\n",
    "raincoat_center_926 = requests.post(url, json={'query': query74}, headers = {'Authorization':token})\n",
    "heatmap74 = raincoat_center_926.json()['data']['zoneHeatmaps']['edges']\n",
    "data74 = heatmap74[0].get('node').get('heatmap')\n",
    "for i in range(len(data74)):\n",
    "    data_raincoat_926.append(data74[i])\n",
    "    event_raincoat_926.append('Sidewalk Labs opens its door for Startup Open House')\n",
    "    zone_raincoat_926.append('center')\n",
    "\n",
    "query75 = \"\"\"\n",
    "query {\n",
    "  zoneHeatmaps(\n",
    "    zoneIds: [44654],\n",
    "    startTime: \"2019-09-26T16:00:00\",\n",
    "    endTime: \"2019-09-26T20:00:00\",\n",
    "    objClasses: [\"pedestrian\"],\n",
    "  ) {\n",
    "    edges {\n",
    "      node {\n",
    "        objClass \n",
    "        heatmap\n",
    "        time\n",
    "        zoneIds\n",
    "      }\n",
    "    }\n",
    "  }\n",
    "}\n",
    "\"\"\"\n",
    "raincoat_right_926 = requests.post(url, json={'query': query75}, headers = {'Authorization':token})\n",
    "heatmap75 = raincoat_right_926.json()['data']['zoneHeatmaps']['edges']\n",
    "data75 = heatmap75[0].get('node').get('heatmap')\n",
    "for i in range(len(data75)):\n",
    "    data_raincoat_926.append(data75[i])\n",
    "    event_raincoat_926.append('Sidewalk Labs opens its door for Startup Open House')\n",
    "    zone_raincoat_926.append('right')\n",
    "    \n",
    "query76 = \"\"\"\n",
    "query {\n",
    "  zoneHeatmaps(\n",
    "    zoneIds: [44655],\n",
    "    startTime: \"2019-09-26T16:00:00\",\n",
    "    endTime: \"2019-09-26T20:00:00\",\n",
    "    objClasses: [\"pedestrian\"],\n",
    "  ) {\n",
    "    edges {\n",
    "      node {\n",
    "        objClass \n",
    "        heatmap\n",
    "        time\n",
    "        zoneIds\n",
    "      }\n",
    "    }\n",
    "  }\n",
    "}\n",
    "\"\"\"\n",
    "raincoat_left_926 = requests.post(url, json={'query': query76}, headers = {'Authorization':token})\n",
    "heatmap76 = raincoat_left_926.json()['data']['zoneHeatmaps']['edges']\n",
    "data76 = heatmap76[0].get('node').get('heatmap')\n",
    "for i in range(len(data76)):\n",
    "    data_raincoat_926.append(data76[i])\n",
    "    event_raincoat_926.append('Sidewalk Labs opens its door for Startup Open House')\n",
    "    zone_raincoat_926.append('left')\n",
    "    \n",
    "# Store the raincoat heatmap information of Startup Open House in the dataframe     \n",
    "heatmap_raincoat_926_list = {'heatmap': data_raincoat_926, 'event': event_raincoat_926, 'zone': zone_raincoat_926}\n",
    "heatmap_raincoat_926_df = pd.DataFrame.from_dict(heatmap_raincoat_926_list)  \n",
    "\n"
   ]
  },
  {
   "cell_type": "code",
   "execution_count": 75,
   "metadata": {
    "extensions": {
     "jupyter_dashboards": {
      "version": 1,
      "views": {
       "grid_default": {},
       "report_default": {
        "hidden": true
       }
      }
     }
    }
   },
   "outputs": [],
   "source": [
    "data_raincoat_1120 = []\n",
    "event_raincoat_1120 = []\n",
    "zone_raincoat_1120 = []\n",
    "\n",
    "# query 77-80 are the raincoat heatmap information of each zone for Ex Augmented Opera\n",
    "query77 = \"\"\"\n",
    "query {\n",
    "  zoneHeatmaps(\n",
    "    zoneIds: [44652],\n",
    "    startTime: \"2019-11-20T18:30:00\",\n",
    "    endTime: \"2019-11-23T22:00:00\",\n",
    "    objClasses: [\"pedestrian\"],\n",
    "  ) {\n",
    "    edges {\n",
    "      node {\n",
    "        objClass \n",
    "        heatmap\n",
    "        time\n",
    "        zoneIds\n",
    "      }\n",
    "    }\n",
    "  }\n",
    "}\n",
    "\"\"\"\n",
    "raincoat_chair_1120 = requests.post(url, json={'query': query77}, headers = {'Authorization':token})\n",
    "heatmap77 = raincoat_chair_1120.json()['data']['zoneHeatmaps']['edges']\n",
    "data77 = heatmap77[0].get('node').get('heatmap')\n",
    "for i in range(len(data77)):\n",
    "    data_raincoat_1120.append(data77[i])\n",
    "    event_raincoat_1120.append('Tap: Ex Augmented Opera')\n",
    "    zone_raincoat_1120.append('chair')\n",
    "\n",
    "query78 = \"\"\"\n",
    "query {\n",
    "  zoneHeatmaps(\n",
    "    zoneIds: [44653],\n",
    "    startTime: \"2019-11-20T18:30:00\",\n",
    "    endTime: \"2019-11-23T22:00:00\",\n",
    "    objClasses: [\"pedestrian\"],\n",
    "  ) {\n",
    "    edges {\n",
    "      node {\n",
    "        objClass \n",
    "        heatmap\n",
    "        time\n",
    "        zoneIds\n",
    "      }\n",
    "    }\n",
    "  }\n",
    "}\n",
    "\"\"\"\n",
    "raincoat_center_1120 = requests.post(url, json={'query': query78}, headers = {'Authorization':token})\n",
    "heatmap78 = raincoat_center_1120.json()['data']['zoneHeatmaps']['edges']\n",
    "data78 = heatmap78[0].get('node').get('heatmap')\n",
    "for i in range(len(data78)):\n",
    "    data_raincoat_1120.append(data78[i])\n",
    "    event_raincoat_1120.append('Tap: Ex Augmented Opera')\n",
    "    zone_raincoat_1120.append('center')\n",
    "\n",
    "query79 = \"\"\"\n",
    "query {\n",
    "  zoneHeatmaps(\n",
    "    zoneIds: [44654],\n",
    "    startTime: \"2019-11-20T18:30:00\",\n",
    "    endTime: \"2019-11-23T22:00:00\",\n",
    "    objClasses: [\"pedestrian\"],\n",
    "  ) {\n",
    "    edges {\n",
    "      node {\n",
    "        objClass \n",
    "        heatmap\n",
    "        time\n",
    "        zoneIds\n",
    "      }\n",
    "    }\n",
    "  }\n",
    "}\n",
    "\"\"\"\n",
    "raincoat_right_1120 = requests.post(url, json={'query': query79}, headers = {'Authorization':token})\n",
    "heatmap79 = raincoat_right_1120.json()['data']['zoneHeatmaps']['edges']\n",
    "data79 = heatmap79[0].get('node').get('heatmap')\n",
    "for i in range(len(data79)):\n",
    "    data_raincoat_1120.append(data79[i])\n",
    "    event_raincoat_1120.append('Tap: Ex Augmented Opera')\n",
    "    zone_raincoat_1120.append('right')\n",
    "    \n",
    "query80 = \"\"\"\n",
    "query {\n",
    "  zoneHeatmaps(\n",
    "    zoneIds: [44655],\n",
    "    startTime: \"2019-11-20T18:30:00\",\n",
    "    endTime: \"2019-11-23T22:00:00\",\n",
    "    objClasses: [\"pedestrian\"],\n",
    "  ) {\n",
    "    edges {\n",
    "      node {\n",
    "        objClass \n",
    "        heatmap\n",
    "        time\n",
    "        zoneIds\n",
    "      }\n",
    "    }\n",
    "  }\n",
    "}\n",
    "\"\"\"\n",
    "raincoat_left_1120 = requests.post(url, json={'query': query80}, headers = {'Authorization':token})\n",
    "heatmap80 = raincoat_left_1120.json()['data']['zoneHeatmaps']['edges']\n",
    "data80 = heatmap80[0].get('node').get('heatmap')\n",
    "for i in range(len(data80)):\n",
    "    data_raincoat_1120.append(data80[i])\n",
    "    event_raincoat_1120.append('Tap: Ex Augmented Opera')\n",
    "    zone_raincoat_1120.append('left')\n",
    "    \n",
    "\n",
    "# Store the raincoat heatmap information of Ex Augmented Opera in the dataframe         \n",
    "heatmap_raincoat_1120_list = {'heatmap': data_raincoat_1120, 'event': event_raincoat_1120, 'zone': zone_raincoat_1120}\n",
    "heatmap_raincoat_1120_df = pd.DataFrame.from_dict(heatmap_raincoat_1120_list)  \n",
    "\n"
   ]
  },
  {
   "cell_type": "code",
   "execution_count": 76,
   "metadata": {
    "extensions": {
     "jupyter_dashboards": {
      "version": 1,
      "views": {
       "grid_default": {},
       "report_default": {
        "hidden": true
       }
      }
     }
    }
   },
   "outputs": [],
   "source": [
    "# create a dataframe containing heatmap information by zones of raincoat sensor\n",
    "raincoat_heatmap_df = pd.concat([heatmap_raincoat_302_df, \n",
    "                                heatmap_raincoat_629_df, \n",
    "                                heatmap_raincoat_815_df, \n",
    "                                heatmap_raincoat_926_df, \n",
    "                                heatmap_raincoat_1120_df])\n",
    "\n",
    "\n"
   ]
  },
  {
   "cell_type": "code",
   "execution_count": 77,
   "metadata": {
    "extensions": {
     "jupyter_dashboards": {
      "version": 1,
      "views": {
       "grid_default": {},
       "report_default": {
        "hidden": false
       }
      }
     }
    },
    "scrolled": false
   },
   "outputs": [
    {
     "data": {
      "application/vnd.jupyter.widget-view+json": {
       "model_id": "44097ab3bd144fa79bdaf64ca1a5bf3a",
       "version_major": 2,
       "version_minor": 0
      },
      "text/plain": [
       "interactive(children=(Dropdown(description='Sensor:', options=('Streetscape', 'Outside', 'Under Raincoat'), va…"
      ]
     },
     "metadata": {},
     "output_type": "display_data"
    },
    {
     "data": {
      "text/plain": [
       "<function __main__.display_zones(sensor)>"
      ]
     },
     "execution_count": 77,
     "metadata": {},
     "output_type": "execute_result"
    }
   ],
   "source": [
    "def display_zones(sensor):\n",
    "    fig, ax = plt.subplots(figsize = (15, 10))\n",
    "    if sensor == 'Streetscape':\n",
    "        plt.imshow(mpimg.imread('streetscape_zones.png'))\n",
    "    elif sensor == 'Outside':\n",
    "        plt.imshow(mpimg.imread('outside_zones.png'))\n",
    "    else:\n",
    "        plt.imshow(mpimg.imread('raincoat_zones.png'))\n",
    "    plt.axis('off')\n",
    "    plt.title(\"Behavior Zones of the {0} Sensor\".format(sensor), fontsize=20)\n",
    "    plt.show()\n",
    "    \n",
    "widgets.interact(display_zones, \n",
    "                sensor=widgets.Dropdown(\n",
    "                        options=['Streetscape', 'Outside', 'Under Raincoat'],\n",
    "                        description='Sensor:'))"
   ]
  },
  {
   "cell_type": "code",
   "execution_count": 78,
   "metadata": {
    "extensions": {
     "jupyter_dashboards": {
      "version": 1,
      "views": {
       "grid_default": {},
       "report_default": {
        "hidden": false
       }
      }
     }
    }
   },
   "outputs": [
    {
     "data": {
      "application/vnd.jupyter.widget-view+json": {
       "model_id": "93ee0f1c58f043afb6f2c7ce11cfbc0f",
       "version_major": 2,
       "version_minor": 0
      },
      "text/plain": [
       "interactive(children=(Dropdown(description='Event:', options=('Open Sidewalk #4', 'Sidewalk Summer Open House'…"
      ]
     },
     "metadata": {},
     "output_type": "display_data"
    },
    {
     "data": {
      "text/plain": [
       "<function __main__.plot_streetscape_heatmap(event, zones)>"
      ]
     },
     "execution_count": 78,
     "metadata": {},
     "output_type": "execute_result"
    }
   ],
   "source": [
    "def plot_streetscape_heatmap(event, zones):\n",
    "    map_img = mpimg.imread(\"streetscape.png\")\n",
    "    same_event = streetscape_heatmap_df[streetscape_heatmap_df['event'] == event]\n",
    "    selected_zones = pd.DataFrame()\n",
    "    for zone in zones:\n",
    "        temp = same_event[same_event['zone'] == zone]\n",
    "        selected_zones = selected_zones.append([temp])\n",
    "    matrix = list(selected_zones['heatmap'])\n",
    "    x = [i[0] for i in matrix]\n",
    "    y = [i[1] for i in matrix]\n",
    "    value = [i[2] for i in matrix]\n",
    "    fig, ax = plt.subplots(figsize = (15, 10))\n",
    "    ax.scatter(x, y, c=value, s=1.5, alpha=0.5, cmap=plt.cm.Wistia)\n",
    "    ax.imshow(map_img, aspect = \"auto\")\n",
    "    plt.axis('off')\n",
    "    plt.title(\"Heatmap for {0} Event\".format(event), fontsize=20)\n",
    "    plt.show()\n",
    "\n",
    "widgets.interact(plot_streetscape_heatmap, \\\n",
    "                 event=widgets.Dropdown(\n",
    "                                options=['Open Sidewalk #4', 'Sidewalk Summer Open House',\\\n",
    "                                         'City Moments: An event celebrating art and urban life',\\\n",
    "                                         'Sidewalk Labs opens its door for Startup Open House',\\\n",
    "                                         'Tap: Ex Augmented Opera'],\n",
    "                                description='Event:',\n",
    "                                disabled=False,\n",
    "                        ), \\\n",
    "                 zones=widgets.SelectMultiple(\n",
    "                            options=['tables', 'above tables', 'besides tables', 'under tables', \\\n",
    "                                     'entrance', 'sidewalk1', 'sidewalk2'],\n",
    "                            description='Zone',\n",
    "                        ))\n",
    "\n"
   ]
  },
  {
   "cell_type": "code",
   "execution_count": 79,
   "metadata": {
    "extensions": {
     "jupyter_dashboards": {
      "version": 1,
      "views": {
       "grid_default": {},
       "report_default": {
        "hidden": false
       }
      }
     }
    }
   },
   "outputs": [
    {
     "data": {
      "application/vnd.jupyter.widget-view+json": {
       "model_id": "56864f595c294985a370c02151870618",
       "version_major": 2,
       "version_minor": 0
      },
      "text/plain": [
       "interactive(children=(Dropdown(description='Event:', options=('Open Sidewalk #4', 'Sidewalk Summer Open House'…"
      ]
     },
     "metadata": {},
     "output_type": "display_data"
    },
    {
     "data": {
      "text/plain": [
       "<function __main__.plot_outside_heatmap(event, zones)>"
      ]
     },
     "execution_count": 79,
     "metadata": {},
     "output_type": "execute_result"
    }
   ],
   "source": [
    "def plot_outside_heatmap(event, zones):\n",
    "    map_img = mpimg.imread(\"outside.png\")\n",
    "    same_event = outside_heatmap_df[outside_heatmap_df['event'] == event]\n",
    "    selected_zones = pd.DataFrame()\n",
    "    for zone in zones:\n",
    "        temp = same_event[same_event['zone'] == zone]\n",
    "        selected_zones = selected_zones.append([temp])\n",
    "    matrix = list(selected_zones['heatmap'])\n",
    "    x = [i[0] for i in matrix]\n",
    "    y = [i[1] for i in matrix]\n",
    "    value = [i[2] for i in matrix]\n",
    "    fig, ax = plt.subplots(figsize = (15, 10))\n",
    "    ax.scatter(x, y, c=value, s=1.5, alpha=0.5, cmap=plt.cm.Wistia)\n",
    "    ax.imshow(map_img, aspect = \"auto\")\n",
    "    plt.axis('off')\n",
    "    plt.title(\"Heatmap for {0} Event\".format(event), fontsize=20)\n",
    "    plt.show()\n",
    "\n",
    "widgets.interact(plot_outside_heatmap, \\\n",
    "                 event=widgets.Dropdown(\n",
    "                                options=['Open Sidewalk #4', 'Sidewalk Summer Open House',\\\n",
    "                                         'City Moments: An event celebrating art and urban life',\\\n",
    "                                         'Sidewalk Labs opens its door for Startup Open House',\\\n",
    "                                         'Tap: Ex Augmented Opera'],\n",
    "                                description='Event:',\n",
    "                                disabled=False,\n",
    "                        ), \\\n",
    "                 zones=widgets.SelectMultiple(\n",
    "                            options=['empty', 'tables', 'chair', 'grass', 'left'],\n",
    "                            description='Zone',\n",
    "                        ))"
   ]
  },
  {
   "cell_type": "code",
   "execution_count": 80,
   "metadata": {
    "extensions": {
     "jupyter_dashboards": {
      "version": 1,
      "views": {
       "grid_default": {},
       "report_default": {
        "hidden": false
       }
      }
     }
    }
   },
   "outputs": [
    {
     "data": {
      "application/vnd.jupyter.widget-view+json": {
       "model_id": "39af1118f76548f4a2bdd80b63cdd245",
       "version_major": 2,
       "version_minor": 0
      },
      "text/plain": [
       "interactive(children=(Dropdown(description='Event:', options=('Open Sidewalk #4', 'Sidewalk Summer Open House'…"
      ]
     },
     "metadata": {},
     "output_type": "display_data"
    },
    {
     "data": {
      "text/plain": [
       "<function __main__.plot_raincoat_heatmap(event, zones)>"
      ]
     },
     "execution_count": 80,
     "metadata": {},
     "output_type": "execute_result"
    }
   ],
   "source": [
    "def plot_raincoat_heatmap(event, zones):\n",
    "    map_img = mpimg.imread(\"raincoat.png\")\n",
    "    same_event = raincoat_heatmap_df[raincoat_heatmap_df['event'] == event]\n",
    "    selected_zones = pd.DataFrame()\n",
    "    for zone in zones:\n",
    "        temp = same_event[same_event['zone'] == zone]\n",
    "        selected_zones = selected_zones.append([temp])\n",
    "    matrix = list(selected_zones['heatmap'])\n",
    "    x = [i[0] for i in matrix]\n",
    "    y = [i[1] for i in matrix]\n",
    "    value = [i[2] for i in matrix]\n",
    "    fig, ax = plt.subplots(figsize = (15, 10))\n",
    "    ax.scatter(x, y, c=value, s=1.5, alpha=0.5, cmap=plt.cm.Wistia)\n",
    "    ax.imshow(map_img, aspect = \"auto\")\n",
    "    plt.axis('off')\n",
    "    plt.title(\"Heatmap for {0} Event\".format(event), fontsize=20)\n",
    "    plt.show()\n",
    "\n",
    "widgets.interact(plot_raincoat_heatmap, \\\n",
    "                 event=widgets.Dropdown(\n",
    "                                options=['Open Sidewalk #4', 'Sidewalk Summer Open House',\\\n",
    "                                         'City Moments: An event celebrating art and urban life',\\\n",
    "                                         'Sidewalk Labs opens its door for Startup Open House',\\\n",
    "                                         'Tap: Ex Augmented Opera'],\n",
    "                                description='Event:',\n",
    "                                disabled=False,\n",
    "                        ), \\\n",
    "                 zones=widgets.SelectMultiple(\n",
    "                            options=['chair', 'center', 'right', 'left'],\n",
    "                            description='Zone',\n",
    "                        ))"
   ]
  },
  {
   "cell_type": "markdown",
   "metadata": {
    "extensions": {
     "jupyter_dashboards": {
      "version": 1,
      "views": {
       "grid_default": {},
       "report_default": {
        "hidden": false
       }
      }
     }
    }
   },
   "source": [
    "# Required Maintenance<a class=\"anchor\" id=\"required-maintenance\"></a>"
   ]
  },
  {
   "cell_type": "code",
   "execution_count": 81,
   "metadata": {
    "extensions": {
     "jupyter_dashboards": {
      "version": 1,
      "views": {
       "grid_default": {},
       "report_default": {
        "hidden": true
       }
      }
     }
    }
   },
   "outputs": [],
   "source": [
    "query_maintain = \"\"\"\n",
    "query {\n",
    "  feedDwellTimeDistribution(\n",
    "    serialnos:[\"SWLSANDBOX1\", \"SWLSANDBOX2\", \"SWLSANDBOX3\"],\n",
    "    startTime:\"2019-02-20T00:00:00\",\n",
    "    endTime:\"2020-01-12T00:00:00\",\n",
    "    objClasses:[\"pedestrian\"],\n",
    "    timezone:\"America/New_York\"\n",
    "    interval:\"1h\"\n",
    "    ){\n",
    "    edges {\n",
    "      node {\n",
    "        serialno\n",
    "        pct100\n",
    "        pct75\n",
    "        pct50\n",
    "        pct25\n",
    "        mean\n",
    "        count\n",
    "        time\n",
    "      }\n",
    "    }\n",
    "  }\n",
    "}\n",
    "\"\"\"\n",
    "year2019 = requests.post(url, json={'query': query_maintain}, headers = {'Authorization':token})"
   ]
  },
  {
   "cell_type": "code",
   "execution_count": 82,
   "metadata": {
    "extensions": {
     "jupyter_dashboards": {
      "version": 1,
      "views": {
       "grid_default": {},
       "report_default": {
        "hidden": true
       }
      }
     }
    }
   },
   "outputs": [],
   "source": [
    "# In the beginning, we only chose the subset of data in year2019\n",
    "# After finishing the implementation, we changed the time range\n",
    "# But for convenience, we did not change the name of variables/\n",
    "year2019Json = year2019.json()\n",
    "year2019List = year2019Json['data']['feedDwellTimeDistribution']['edges']\n",
    "year2019_dic = []\n",
    "for i in range(len(year2019List)):\n",
    "    year2019_dic.append(year2019List[i]['node'])\n",
    "year2019_df = pd.DataFrame.from_dict(year2019_dic, orient='columns')\n",
    "# extract useful information\n",
    "year2019_df['time'] = year2019_df['time'].str[:19]\n",
    "year2019_df['location'] = year2019_df['serialno'].astype(str)\n",
    "year2019_df[\"location\"].replace({\"SWLSANDBOX3\": \"Outside\", \"SWLSANDBOX2\": \"Under Raincoat\",\n",
    "                                                          \"SWLSANDBOX1\": \"Streetscape\"}, inplace=True)\n",
    "year2019_df['time'] = pd.to_datetime(year2019_df['time'])\n",
    "for i in range(len(year2019_df)):\n",
    "    year2019_df.loc[i, 'weekday'] = year2019_df.loc[i, 'time'].weekday()"
   ]
  },
  {
   "cell_type": "code",
   "execution_count": 83,
   "metadata": {
    "extensions": {
     "jupyter_dashboards": {
      "version": 1,
      "views": {
       "grid_default": {},
       "report_default": {
        "hidden": true
       }
      }
     }
    }
   },
   "outputs": [],
   "source": [
    "# helper function for check whether the time is within the time_range\n",
    "def check_time(time, time_range):\n",
    "    if time < time_range[0]:\n",
    "        return False\n",
    "    elif time > time_range[1]:\n",
    "        return False\n",
    "    else:\n",
    "        return True"
   ]
  },
  {
   "cell_type": "code",
   "execution_count": 84,
   "metadata": {
    "extensions": {
     "jupyter_dashboards": {
      "version": 1,
      "views": {
       "grid_default": {},
       "report_default": {
        "hidden": true
       }
      }
     }
    }
   },
   "outputs": [],
   "source": [
    "# helper function to update the time on the weekend to the next Mondy\n",
    "def new_week(day, time):\n",
    "        wait = 0\n",
    "        # during the weekends\n",
    "        wait -= time\n",
    "        wait += 24 * (7 - day)  \n",
    "        return wait"
   ]
  },
  {
   "cell_type": "code",
   "execution_count": 85,
   "metadata": {
    "extensions": {
     "jupyter_dashboards": {
      "version": 1,
      "views": {
       "grid_default": {},
       "report_default": {
        "hidden": true
       }
      }
     }
    }
   },
   "outputs": [],
   "source": [
    "# helper function for scheduling maintenance\n",
    "def schedule(temp, wait, i, time, limit, time_range): \n",
    "    # number of visitors over limit or not within the time_range\n",
    "    while((temp.loc[i+wait, 'count'] > limit) or (check_time((time+wait)%24, time_range) == False)):\n",
    "        wait += 1\n",
    "    return wait"
   ]
  },
  {
   "cell_type": "code",
   "execution_count": 86,
   "metadata": {
    "extensions": {
     "jupyter_dashboards": {
      "version": 1,
      "views": {
       "grid_default": {},
       "report_default": {
        "hidden": true
       }
      }
     }
    }
   },
   "outputs": [],
   "source": [
    "def maintain(date_range, loc, time_range, limit, weekdays_only):\n",
    "    # extract the subset of data within date_range\n",
    "    temp = year2019_df[(year2019_df['time'] >= date_range[0]) & (year2019_df['time'] <= date_range[1])]\n",
    "    temp = temp[temp.location == loc].reset_index().drop(columns='index')\n",
    "    temp.loc[:, 'maintain'] = False\n",
    "    visitor = 0\n",
    "    hour = 0\n",
    "    i = 0\n",
    "    while (i < len(temp)):\n",
    "        # need maintainance\n",
    "        if (visitor > 500) | (hour > 500):          \n",
    "        # check the time\n",
    "            time = int(str(temp.time[i])[11:13]) \n",
    "            wait = 0\n",
    "            # only on weekays\n",
    "            if weekdays_only:\n",
    "                day = temp.weekday[i]\n",
    "                # on weekends\n",
    "                while (day > 4):\n",
    "                    wait += new_week(day, time)\n",
    "                    wait += schedule(temp, wait, i, time, limit, time_range)\n",
    "                    # update the time\n",
    "                    day = temp.weekday[i+wait]\n",
    "                    time = int(str(temp.time[i+wait])[11:13]) \n",
    "            # both weekdays and weekends\n",
    "            else:\n",
    "                wait += schedule(temp, wait, i, time, limit, time_range)\n",
    "            #update the counter\n",
    "            temp.loc[i+wait, 'maintain'] = True\n",
    "            visitor = 0\n",
    "            hour = 0\n",
    "            i += wait\n",
    "        # update the counter\n",
    "        else:\n",
    "            visitor += temp.loc[i, 'count']\n",
    "            hour += 1\n",
    "            i += 1\n",
    "    # return the schedule\n",
    "    return temp[temp.maintain == True][['time', 'location']].reset_index().drop(columns = 'index')"
   ]
  },
  {
   "cell_type": "code",
   "execution_count": 87,
   "metadata": {
    "extensions": {
     "jupyter_dashboards": {
      "version": 1,
      "views": {
       "grid_default": {},
       "report_default": {
        "hidden": true
       }
      }
     }
    }
   },
   "outputs": [],
   "source": [
    "import ipywidgets as widgets\n",
    "from ipywidgets import interact, interactive, fixed, interact_manual\n",
    "from IPython.display import clear_output\n",
    "from datetime import datetime\n",
    "\n",
    "# set the range of date_range\n",
    "start_date = min(year2019_df['time'])\n",
    "end_date = max(year2019_df['time'])\n",
    "\n",
    "dates = pd.date_range(start_date, end_date, freq='D')\n",
    "\n",
    "options = [(date.strftime(' %d %b %Y '), date) for date in dates]\n",
    "index = (0, len(options)-1)\n",
    "\n",
    "date_range_slider = widgets.SelectionRangeSlider(\n",
    "    options=options,\n",
    "    index=index,\n",
    "    description='Dates',\n",
    "    orientation='horizontal',\n",
    "    layout={'width': '800px'}\n",
    ")\n",
    "\n",
    "# the options for location\n",
    "location_selector = widgets.Dropdown(\n",
    "                                options=['Under Raincoat', 'Outside', 'Streetscape'],\n",
    "                                description='Sensor:',\n",
    "                                disabled=False,\n",
    "                        )\n",
    "\n",
    "\n",
    "# the range of time_range\n",
    "time_range_slider = widgets.SelectionRangeSlider(options = range(0, 24))\n",
    "\n",
    "# the range of limit\n",
    "q1 = year2019_df['count'].quantile(0.25)\n",
    "q3 = year2019_df['count'].quantile(0.75)\n",
    "iqr = q3 - q1\n",
    "max_count = int(q3 + 1.5 * iqr)\n",
    "limit = (0, max_count)"
   ]
  },
  {
   "cell_type": "code",
   "execution_count": 88,
   "metadata": {
    "extensions": {
     "jupyter_dashboards": {
      "version": 1,
      "views": {
       "grid_default": {},
       "report_default": {
        "hidden": false
       }
      }
     }
    }
   },
   "outputs": [
    {
     "data": {
      "application/vnd.jupyter.widget-view+json": {
       "model_id": "9f50dd22a3204950bd383a37f694ef74",
       "version_major": 2,
       "version_minor": 0
      },
      "text/plain": [
       "interactive(children=(SelectionRangeSlider(description='Dates', index=(0, 325), layout=Layout(width='800px'), …"
      ]
     },
     "metadata": {},
     "output_type": "display_data"
    },
    {
     "data": {
      "text/plain": [
       "<function __main__.maintain(date_range, loc, time_range, limit, weekdays_only)>"
      ]
     },
     "execution_count": 88,
     "metadata": {},
     "output_type": "execute_result"
    }
   ],
   "source": [
    "widgets.interact(maintain, date_range=date_range_slider, loc = location_selector, time_range = time_range_slider, limit = limit, weekdays_only = True)"
   ]
  },
  {
   "cell_type": "markdown",
   "metadata": {
    "extensions": {
     "jupyter_dashboards": {
      "version": 1,
      "views": {
       "grid_default": {},
       "report_default": {
        "hidden": false
       }
      }
     }
    }
   },
   "source": [
    "# Privacy Philosophy<a class=\"anchor\" id=\"privacy-philosophy\"></a>"
   ]
  },
  {
   "cell_type": "markdown",
   "metadata": {
    "extensions": {
     "jupyter_dashboards": {
      "version": 1,
      "views": {
       "grid_default": {},
       "report_default": {
        "hidden": false
       }
      }
     }
    }
   },
   "source": [
    "To guarantee the privacy of the objects being detected by the Numina sensor, the following procedures have to be met.\n",
    "\n",
    "> Numina and the users of these data should never attempt to identify individual objects. This is demonstrated because when we use these data to study the objects' behaviors, we are unable to get information beyond their movements.<br />\n",
    "\n",
    "> Numina should examine the studies which use their data and authenticate the users of the data. This is demonstrated because when we try to use the data, we have to authenticate ourselves first to get access. Also, our professor has asked Numina for permission and Numina has proved the validity of our assignment so that we can use the data. <br />\n",
    "\n",
    "> Numina should make sure that the data are saved properly and are used only for valid purposes. This is demonstrated because Numina requires authentication before accessing the data. Also, the data are only used to study the behaviors of the objects being detected. <br />"
   ]
  },
  {
   "cell_type": "markdown",
   "metadata": {
    "extensions": {
     "jupyter_dashboards": {
      "version": 1,
      "views": {
       "grid_default": {},
       "report_default": {
        "hidden": false
       }
      }
     }
    }
   },
   "source": [
    "Also, since our webpage provides the visualization of the data from Numina, and user have no access to the specific implementation. <br />\n",
    "So both our webpage and Numina balance individual privacy and benefits for society."
   ]
  }
 ],
 "metadata": {
  "extensions": {
   "jupyter_dashboards": {
    "activeView": "report_default",
    "version": 1,
    "views": {
     "grid_default": {
      "name": "grid",
      "type": "grid"
     },
     "report_default": {
      "name": "report",
      "type": "report"
     }
    }
   }
  },
  "kernelspec": {
   "display_name": "Python 3",
   "language": "python",
   "name": "python3"
  },
  "language_info": {
   "codemirror_mode": {
    "name": "ipython",
    "version": 3
   },
   "file_extension": ".py",
   "mimetype": "text/x-python",
   "name": "python",
   "nbconvert_exporter": "python",
   "pygments_lexer": "ipython3",
   "version": "3.8.1"
  }
 },
 "nbformat": 4,
 "nbformat_minor": 4
}
